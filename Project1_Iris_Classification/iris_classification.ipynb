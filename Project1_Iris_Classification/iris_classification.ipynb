{
 "cells": [
  {
   "cell_type": "markdown",
   "id": "98fc0d70",
   "metadata": {},
   "source": [
    "## Advanced Machine Learning Project\n"
   ]
  },
  {
   "cell_type": "markdown",
   "id": "170ac955",
   "metadata": {},
   "source": [
    "### Iris Prediction\n",
    "\n"
   ]
  },
  {
   "cell_type": "markdown",
   "id": "6d684ce5",
   "metadata": {},
   "source": [
    "## Theoretical part - exploring the project: \n",
    "   \n",
    "### Project Type - Classification;\n",
    "   \n",
    "### Project Description:\n",
    "- This project focuses on developing a machine learning model to classify iris flowers into their respective species based on specific measurements. \n",
    "- Based on description, iris flowers are classified into three species: Setosa, Versicolor, and Virginica, each exhibiting distinct characteristics in terms of their physical measurements.\n",
    "\n",
    "\n",
    "  \n",
    "  \n",
    "### Goal: \n",
    "  - The primary goal is to leverage ML techniques to build a classification model that can accurately identify the species of iris flowers based on their measurements. \n",
    "  "
   ]
  },
  {
   "cell_type": "markdown",
   "id": "da2f8cd7",
   "metadata": {},
   "source": [
    "## Key Project Details: \n",
    "\n",
    "### Data:\n",
    "The dataset used for this project consists of measurements from iris flowers belonging to the three species: Setosa, Versicolor, and Virginica. The key features are:\n",
    "\n",
    "- Sepal length (cm)\n",
    "- Sepal width (cm)\n",
    "- Petal length (cm)\n",
    "- Petal width (cm)\n",
    "\n",
    "These measurements are used as the input to the classification model, with the species being the target variable.\n",
    "\n",
    "### Machine Learning Model:\n",
    "- The task involves the creation and training a machine learning model to learn from the provided data and accurately classify iris flowers into one of the three species based on their measurements. \n",
    "- The model will be trained on a labeled dataset (train.csv) where each flower's species is known, and then it will be used to make predictions on unseen data (test.csv). This process can help streamline and automate iris species classification.\n",
    "\n",
    "\n",
    "### Problem Statement:\n",
    "The iris flower, a distinctive genus of flowering plants, includes three primary species: Iris Setosa, Iris Versicolor, and Iris Virginica. These species differ in their physical traits, particularly in the sepal and petal dimensions. \n",
    "- The problem is to develop a machine learning model capable of distinguishing between these species based on their respective measurements.\n",
    "\n",
    "### Objective:\n",
    "- This project aims to create an ML model that learns from the measurements of iris flowers and accurately classifies them into their respective species.\n",
    "\n",
    "\n",
    "- The model will automate this classification process, contributing to a more efficient way of identifying iris species based on distinct characteristics."
   ]
  },
  {
   "cell_type": "markdown",
   "id": "3edef314",
   "metadata": {},
   "source": [
    "## Practical part:"
   ]
  },
  {
   "cell_type": "markdown",
   "id": "925747a8",
   "metadata": {},
   "source": [
    "### 1. Data Preprocessing\n"
   ]
  },
  {
   "cell_type": "markdown",
   "id": "3b0093f9",
   "metadata": {},
   "source": [
    "#### 1.1 Import Libraries"
   ]
  },
  {
   "cell_type": "code",
   "execution_count": 497,
   "id": "d6449dcc",
   "metadata": {},
   "outputs": [],
   "source": [
    "# data processing & data wrangling\n",
    "import numpy as np\n",
    "import pandas as pd\n",
    "\n",
    "# visualization tools\n",
    "import matplotlib.pyplot as plt\n",
    "import seaborn as sns\n",
    "\n",
    "# evaluation metric libraries\n",
    "from sklearn.metrics import confusion_matrix, accuracy_score, precision_score, recall_score, f1_score, classification_report\n",
    "\n",
    "# data preprocessing\n",
    "from sklearn.preprocessing import LabelEncoder\n",
    "\n",
    "# model selection libraries\n",
    "from sklearn.model_selection import train_test_split, GridSearchCV, RandomizedSearchCV, RepeatedStratifiedKFold\n",
    "\n",
    "# ML Model implementation\n",
    "from sklearn.linear_model import LogisticRegression\n",
    "from sklearn.tree import DecisionTreeClassifier\n",
    "from sklearn.ensemble import RandomForestClassifier\n",
    "from sklearn.svm import SVC\n",
    "from sklearn.neural_network import MLPClassifier\n",
    "from sklearn.naive_bayes import GaussianNB\n",
    "import xgboost as xgb\n",
    "\n",
    "# ignore warnings\n",
    "import warnings\n",
    "warnings.filterwarnings('ignore')\n",
    "%matplotlib inline"
   ]
  },
  {
   "cell_type": "markdown",
   "id": "2859266a",
   "metadata": {},
   "source": [
    "#### 1.2 Data Overview:"
   ]
  },
  {
   "cell_type": "markdown",
   "id": "fc26e2aa",
   "metadata": {},
   "source": [
    "##### Loading the datasets: "
   ]
  },
  {
   "cell_type": "code",
   "execution_count": 498,
   "id": "2b3a4efc",
   "metadata": {},
   "outputs": [],
   "source": [
    "df_train = pd.read_csv(\"train.csv\")\n",
    "df_test = pd.read_csv(\"test.csv\")"
   ]
  },
  {
   "cell_type": "code",
   "execution_count": 499,
   "id": "409f5fff",
   "metadata": {},
   "outputs": [
    {
     "data": {
      "text/html": [
       "<div>\n",
       "<style scoped>\n",
       "    .dataframe tbody tr th:only-of-type {\n",
       "        vertical-align: middle;\n",
       "    }\n",
       "\n",
       "    .dataframe tbody tr th {\n",
       "        vertical-align: top;\n",
       "    }\n",
       "\n",
       "    .dataframe thead th {\n",
       "        text-align: right;\n",
       "    }\n",
       "</style>\n",
       "<table border=\"1\" class=\"dataframe\">\n",
       "  <thead>\n",
       "    <tr style=\"text-align: right;\">\n",
       "      <th></th>\n",
       "      <th>id</th>\n",
       "      <th>sepal length (cm)</th>\n",
       "      <th>sepal width (cm)</th>\n",
       "      <th>petal length (cm)</th>\n",
       "      <th>petal width (cm)</th>\n",
       "      <th>target</th>\n",
       "    </tr>\n",
       "  </thead>\n",
       "  <tbody>\n",
       "    <tr>\n",
       "      <th>0</th>\n",
       "      <td>81</td>\n",
       "      <td>5.5</td>\n",
       "      <td>2.4</td>\n",
       "      <td>3.7</td>\n",
       "      <td>1.0</td>\n",
       "      <td>1</td>\n",
       "    </tr>\n",
       "    <tr>\n",
       "      <th>1</th>\n",
       "      <td>133</td>\n",
       "      <td>6.3</td>\n",
       "      <td>2.8</td>\n",
       "      <td>5.1</td>\n",
       "      <td>1.5</td>\n",
       "      <td>2</td>\n",
       "    </tr>\n",
       "    <tr>\n",
       "      <th>2</th>\n",
       "      <td>137</td>\n",
       "      <td>6.4</td>\n",
       "      <td>3.1</td>\n",
       "      <td>5.5</td>\n",
       "      <td>1.8</td>\n",
       "      <td>2</td>\n",
       "    </tr>\n",
       "    <tr>\n",
       "      <th>3</th>\n",
       "      <td>75</td>\n",
       "      <td>6.6</td>\n",
       "      <td>3.0</td>\n",
       "      <td>4.4</td>\n",
       "      <td>1.4</td>\n",
       "      <td>1</td>\n",
       "    </tr>\n",
       "    <tr>\n",
       "      <th>4</th>\n",
       "      <td>109</td>\n",
       "      <td>7.2</td>\n",
       "      <td>3.6</td>\n",
       "      <td>6.1</td>\n",
       "      <td>2.5</td>\n",
       "      <td>2</td>\n",
       "    </tr>\n",
       "  </tbody>\n",
       "</table>\n",
       "</div>"
      ],
      "text/plain": [
       "    id  sepal length (cm)  sepal width (cm)  petal length (cm)  \\\n",
       "0   81                5.5               2.4                3.7   \n",
       "1  133                6.3               2.8                5.1   \n",
       "2  137                6.4               3.1                5.5   \n",
       "3   75                6.6               3.0                4.4   \n",
       "4  109                7.2               3.6                6.1   \n",
       "\n",
       "   petal width (cm)  target  \n",
       "0               1.0       1  \n",
       "1               1.5       2  \n",
       "2               1.8       2  \n",
       "3               1.4       1  \n",
       "4               2.5       2  "
      ]
     },
     "execution_count": 499,
     "metadata": {},
     "output_type": "execute_result"
    }
   ],
   "source": [
    "# training dataset first look top\n",
    "df_train.head()"
   ]
  },
  {
   "cell_type": "code",
   "execution_count": 500,
   "id": "c0df2e6a",
   "metadata": {},
   "outputs": [
    {
     "data": {
      "text/html": [
       "<div>\n",
       "<style scoped>\n",
       "    .dataframe tbody tr th:only-of-type {\n",
       "        vertical-align: middle;\n",
       "    }\n",
       "\n",
       "    .dataframe tbody tr th {\n",
       "        vertical-align: top;\n",
       "    }\n",
       "\n",
       "    .dataframe thead th {\n",
       "        text-align: right;\n",
       "    }\n",
       "</style>\n",
       "<table border=\"1\" class=\"dataframe\">\n",
       "  <thead>\n",
       "    <tr style=\"text-align: right;\">\n",
       "      <th></th>\n",
       "      <th>id</th>\n",
       "      <th>sepal length (cm)</th>\n",
       "      <th>sepal width (cm)</th>\n",
       "      <th>petal length (cm)</th>\n",
       "      <th>petal width (cm)</th>\n",
       "      <th>target</th>\n",
       "    </tr>\n",
       "  </thead>\n",
       "  <tbody>\n",
       "    <tr>\n",
       "      <th>100</th>\n",
       "      <td>71</td>\n",
       "      <td>6.1</td>\n",
       "      <td>2.8</td>\n",
       "      <td>4.0</td>\n",
       "      <td>1.3</td>\n",
       "      <td>1</td>\n",
       "    </tr>\n",
       "    <tr>\n",
       "      <th>101</th>\n",
       "      <td>106</td>\n",
       "      <td>4.9</td>\n",
       "      <td>2.5</td>\n",
       "      <td>4.5</td>\n",
       "      <td>1.7</td>\n",
       "      <td>2</td>\n",
       "    </tr>\n",
       "    <tr>\n",
       "      <th>102</th>\n",
       "      <td>14</td>\n",
       "      <td>5.8</td>\n",
       "      <td>4.0</td>\n",
       "      <td>1.2</td>\n",
       "      <td>0.2</td>\n",
       "      <td>0</td>\n",
       "    </tr>\n",
       "    <tr>\n",
       "      <th>103</th>\n",
       "      <td>92</td>\n",
       "      <td>5.8</td>\n",
       "      <td>2.6</td>\n",
       "      <td>4.0</td>\n",
       "      <td>1.2</td>\n",
       "      <td>1</td>\n",
       "    </tr>\n",
       "    <tr>\n",
       "      <th>104</th>\n",
       "      <td>102</td>\n",
       "      <td>7.1</td>\n",
       "      <td>3.0</td>\n",
       "      <td>5.9</td>\n",
       "      <td>2.1</td>\n",
       "      <td>2</td>\n",
       "    </tr>\n",
       "  </tbody>\n",
       "</table>\n",
       "</div>"
      ],
      "text/plain": [
       "      id  sepal length (cm)  sepal width (cm)  petal length (cm)  \\\n",
       "100   71                6.1               2.8                4.0   \n",
       "101  106                4.9               2.5                4.5   \n",
       "102   14                5.8               4.0                1.2   \n",
       "103   92                5.8               2.6                4.0   \n",
       "104  102                7.1               3.0                5.9   \n",
       "\n",
       "     petal width (cm)  target  \n",
       "100               1.3       1  \n",
       "101               1.7       2  \n",
       "102               0.2       0  \n",
       "103               1.2       1  \n",
       "104               2.1       2  "
      ]
     },
     "execution_count": 500,
     "metadata": {},
     "output_type": "execute_result"
    }
   ],
   "source": [
    "# Training dataset first look bottom  \n",
    "df_train.tail()"
   ]
  },
  {
   "cell_type": "markdown",
   "id": "f23f8b32",
   "metadata": {},
   "source": [
    "#### 1.3 Handle missing/duplicate data:  Missing Values/Null Values:\n",
    "It’s good practice to check for missing values not only in the train dataset, but in the test dataset as well, because the model might encounter problems if any features required for prediction are missing. However, we do not modify the test data during EDA, we can address any issues with the test dataset when making predictions later."
   ]
  },
  {
   "cell_type": "code",
   "execution_count": 501,
   "id": "8e3e20a6",
   "metadata": {},
   "outputs": [
    {
     "data": {
      "text/plain": [
       "id                   0\n",
       "sepal length (cm)    0\n",
       "sepal width (cm)     0\n",
       "petal length (cm)    0\n",
       "petal width (cm)     0\n",
       "target               0\n",
       "dtype: int64"
      ]
     },
     "execution_count": 501,
     "metadata": {},
     "output_type": "execute_result"
    }
   ],
   "source": [
    "df_train.isnull().sum()"
   ]
  },
  {
   "cell_type": "code",
   "execution_count": 502,
   "id": "bc152920",
   "metadata": {},
   "outputs": [
    {
     "data": {
      "text/plain": [
       "id                   0\n",
       "sepal length (cm)    0\n",
       "sepal width (cm)     0\n",
       "petal length (cm)    0\n",
       "petal width (cm)     0\n",
       "dtype: int64"
      ]
     },
     "execution_count": 502,
     "metadata": {},
     "output_type": "execute_result"
    }
   ],
   "source": [
    "df_test.isnull().sum()"
   ]
  },
  {
   "cell_type": "markdown",
   "id": "23669f10",
   "metadata": {},
   "source": [
    "##### Duplicate Values:\n",
    "Lets check for duplicates both datasets, but in case of any issues in test data, we don't remove duplicates as the test set is supposed to represent new, unseen data, and the goal is to evaluate our model’s performance on it. Removing duplicates here would not be ideal because the test data is fixed for evaluation purposes."
   ]
  },
  {
   "cell_type": "code",
   "execution_count": 503,
   "id": "698bc29f",
   "metadata": {},
   "outputs": [
    {
     "name": "stdout",
     "output_type": "stream",
     "text": [
      "number of duplicated rows are 0\n",
      "number of duplicated rows are 0\n"
     ]
    }
   ],
   "source": [
    "duplicate_train = df_train.duplicated().sum()\n",
    "print(f'number of duplicated rows are {duplicate_train}')\n",
    "duplicate_test = df_test.duplicated().sum()\n",
    "print(f'number of duplicated rows are {duplicate_test}')"
   ]
  },
  {
   "cell_type": "markdown",
   "id": "40bca011",
   "metadata": {},
   "source": [
    "#### Summary of 1st part:\n",
    "\n",
    "\n",
    "- No duplicate values exist.\n",
    "\n",
    "- No Null values exist."
   ]
  },
  {
   "cell_type": "markdown",
   "id": "9cc9acee",
   "metadata": {},
   "source": [
    "## Part 2 - Exploratory Data Analysis (EDA)\n",
    "\n",
    "Since the data that was given is splitted already, we have two datasets—train.csv and test.csv.\n",
    "I will focus on EDA using the training dataset.\n",
    "\n",
    "Test data will remain unseen until the model evaluation phase. Using the test data for EDA could introduce bias, as it would give insights that might affect the generalization performance of the model on unseen data.\n",
    "\n",
    "Lets keep test.csv file for the final model evaluation to maintain the integrity of the competition and ensure I'm evaluating the model’s performance properly.\n",
    "\n",
    "So the primary focus of EDA is based on the train dataset."
   ]
  },
  {
   "cell_type": "markdown",
   "id": "3e05f789",
   "metadata": {},
   "source": [
    "#### 2.1 Understanding The Variables \n",
    "##### Datasets Rows & Columns overview:"
   ]
  },
  {
   "cell_type": "code",
   "execution_count": 504,
   "id": "754789f4",
   "metadata": {},
   "outputs": [
    {
     "name": "stdout",
     "output_type": "stream",
     "text": [
      "Number of rows in training data :  105\n",
      "Number of columns in training data:  6\n"
     ]
    }
   ],
   "source": [
    "# number of rows and columns of the train dataset\n",
    "print(\"Number of rows in training data : \",df_train.shape[0])\n",
    "print(\"Number of columns in training data: \",df_train.shape[1])"
   ]
  },
  {
   "cell_type": "code",
   "execution_count": 505,
   "id": "f76f25e4",
   "metadata": {},
   "outputs": [
    {
     "name": "stdout",
     "output_type": "stream",
     "text": [
      "Number of rows in training data :  45\n",
      "Number of columns in training data:  5\n"
     ]
    }
   ],
   "source": [
    "# number of rows and columns of the test dataset\n",
    "print(\"Number of rows in training data : \",df_test.shape[0])\n",
    "print(\"Number of columns in training data: \",df_test.shape[1])"
   ]
  },
  {
   "cell_type": "code",
   "execution_count": 506,
   "id": "97e235d3",
   "metadata": {},
   "outputs": [
    {
     "data": {
      "text/plain": [
       "Index(['id', 'sepal length (cm)', 'sepal width (cm)', 'petal length (cm)',\n",
       "       'petal width (cm)', 'target'],\n",
       "      dtype='object')"
      ]
     },
     "execution_count": 506,
     "metadata": {},
     "output_type": "execute_result"
    }
   ],
   "source": [
    "# training dataset columns\n",
    "df_train.columns"
   ]
  },
  {
   "cell_type": "code",
   "execution_count": 507,
   "id": "773a8908",
   "metadata": {},
   "outputs": [
    {
     "data": {
      "text/plain": [
       "Index(['id', 'sepal length (cm)', 'sepal width (cm)', 'petal length (cm)',\n",
       "       'petal width (cm)'],\n",
       "      dtype='object')"
      ]
     },
     "execution_count": 507,
     "metadata": {},
     "output_type": "execute_result"
    }
   ],
   "source": [
    "# testing dataset columns\n",
    "df_test.columns"
   ]
  },
  {
   "cell_type": "markdown",
   "id": "e8dbe927",
   "metadata": {},
   "source": [
    "#### 2.2 Basic Descriptive Statistics: \n",
    "##### Statistical summary of numeric features in training dataset describe includes all columns:\n"
   ]
  },
  {
   "cell_type": "code",
   "execution_count": 508,
   "id": "6a6c494d",
   "metadata": {
    "scrolled": true
   },
   "outputs": [
    {
     "data": {
      "text/html": [
       "<div>\n",
       "<style scoped>\n",
       "    .dataframe tbody tr th:only-of-type {\n",
       "        vertical-align: middle;\n",
       "    }\n",
       "\n",
       "    .dataframe tbody tr th {\n",
       "        vertical-align: top;\n",
       "    }\n",
       "\n",
       "    .dataframe thead th {\n",
       "        text-align: right;\n",
       "    }\n",
       "</style>\n",
       "<table border=\"1\" class=\"dataframe\">\n",
       "  <thead>\n",
       "    <tr style=\"text-align: right;\">\n",
       "      <th></th>\n",
       "      <th>id</th>\n",
       "      <th>sepal length (cm)</th>\n",
       "      <th>sepal width (cm)</th>\n",
       "      <th>petal length (cm)</th>\n",
       "      <th>petal width (cm)</th>\n",
       "      <th>target</th>\n",
       "    </tr>\n",
       "  </thead>\n",
       "  <tbody>\n",
       "    <tr>\n",
       "      <th>count</th>\n",
       "      <td>105.00</td>\n",
       "      <td>105.00</td>\n",
       "      <td>105.00</td>\n",
       "      <td>105.00</td>\n",
       "      <td>105.00</td>\n",
       "      <td>105.00</td>\n",
       "    </tr>\n",
       "    <tr>\n",
       "      <th>mean</th>\n",
       "      <td>77.70</td>\n",
       "      <td>5.84</td>\n",
       "      <td>3.01</td>\n",
       "      <td>3.87</td>\n",
       "      <td>1.24</td>\n",
       "      <td>1.06</td>\n",
       "    </tr>\n",
       "    <tr>\n",
       "      <th>std</th>\n",
       "      <td>42.08</td>\n",
       "      <td>0.83</td>\n",
       "      <td>0.42</td>\n",
       "      <td>1.72</td>\n",
       "      <td>0.74</td>\n",
       "      <td>0.81</td>\n",
       "    </tr>\n",
       "    <tr>\n",
       "      <th>min</th>\n",
       "      <td>0.00</td>\n",
       "      <td>4.30</td>\n",
       "      <td>2.00</td>\n",
       "      <td>1.10</td>\n",
       "      <td>0.10</td>\n",
       "      <td>0.00</td>\n",
       "    </tr>\n",
       "    <tr>\n",
       "      <th>25%</th>\n",
       "      <td>44.00</td>\n",
       "      <td>5.10</td>\n",
       "      <td>2.80</td>\n",
       "      <td>1.70</td>\n",
       "      <td>0.40</td>\n",
       "      <td>0.00</td>\n",
       "    </tr>\n",
       "    <tr>\n",
       "      <th>50%</th>\n",
       "      <td>81.00</td>\n",
       "      <td>5.80</td>\n",
       "      <td>3.00</td>\n",
       "      <td>4.30</td>\n",
       "      <td>1.30</td>\n",
       "      <td>1.00</td>\n",
       "    </tr>\n",
       "    <tr>\n",
       "      <th>75%</th>\n",
       "      <td>113.00</td>\n",
       "      <td>6.40</td>\n",
       "      <td>3.30</td>\n",
       "      <td>5.10</td>\n",
       "      <td>1.80</td>\n",
       "      <td>2.00</td>\n",
       "    </tr>\n",
       "    <tr>\n",
       "      <th>max</th>\n",
       "      <td>149.00</td>\n",
       "      <td>7.70</td>\n",
       "      <td>4.20</td>\n",
       "      <td>6.70</td>\n",
       "      <td>2.50</td>\n",
       "      <td>2.00</td>\n",
       "    </tr>\n",
       "  </tbody>\n",
       "</table>\n",
       "</div>"
      ],
      "text/plain": [
       "           id  sepal length (cm)  sepal width (cm)  petal length (cm)  \\\n",
       "count  105.00             105.00            105.00             105.00   \n",
       "mean    77.70               5.84              3.01               3.87   \n",
       "std     42.08               0.83              0.42               1.72   \n",
       "min      0.00               4.30              2.00               1.10   \n",
       "25%     44.00               5.10              2.80               1.70   \n",
       "50%     81.00               5.80              3.00               4.30   \n",
       "75%    113.00               6.40              3.30               5.10   \n",
       "max    149.00               7.70              4.20               6.70   \n",
       "\n",
       "       petal width (cm)  target  \n",
       "count            105.00  105.00  \n",
       "mean               1.24    1.06  \n",
       "std                0.74    0.81  \n",
       "min                0.10    0.00  \n",
       "25%                0.40    0.00  \n",
       "50%                1.30    1.00  \n",
       "75%                1.80    2.00  \n",
       "max                2.50    2.00  "
      ]
     },
     "execution_count": 508,
     "metadata": {},
     "output_type": "execute_result"
    }
   ],
   "source": [
    "df_train.describe(include= 'all').round(2)"
   ]
  },
  {
   "cell_type": "markdown",
   "id": "97cb875e",
   "metadata": {},
   "source": [
    "#### 2.3 Summary information about training data"
   ]
  },
  {
   "cell_type": "code",
   "execution_count": 509,
   "id": "6bdd15fd",
   "metadata": {},
   "outputs": [
    {
     "name": "stdout",
     "output_type": "stream",
     "text": [
      "<class 'pandas.core.frame.DataFrame'>\n",
      "RangeIndex: 105 entries, 0 to 104\n",
      "Data columns (total 6 columns):\n",
      " #   Column             Non-Null Count  Dtype  \n",
      "---  ------             --------------  -----  \n",
      " 0   id                 105 non-null    int64  \n",
      " 1   sepal length (cm)  105 non-null    float64\n",
      " 2   sepal width (cm)   105 non-null    float64\n",
      " 3   petal length (cm)  105 non-null    float64\n",
      " 4   petal width (cm)   105 non-null    float64\n",
      " 5   target             105 non-null    int64  \n",
      "dtypes: float64(4), int64(2)\n",
      "memory usage: 5.0 KB\n"
     ]
    }
   ],
   "source": [
    "df_train.info()"
   ]
  },
  {
   "cell_type": "markdown",
   "id": "5298ad79",
   "metadata": {},
   "source": [
    "#### 2.4 Unique Values for each variable:"
   ]
  },
  {
   "cell_type": "code",
   "execution_count": 510,
   "id": "0cf38352",
   "metadata": {},
   "outputs": [
    {
     "name": "stdout",
     "output_type": "stream",
     "text": [
      "For train dataset - Number of unique values in id is 105\n",
      "For train dataset - Number of unique values in sepal length (cm) is 34\n",
      "For train dataset - Number of unique values in sepal width (cm) is 21\n",
      "For train dataset - Number of unique values in petal length (cm) is 39\n",
      "For train dataset - Number of unique values in petal width (cm) is 22\n",
      "For train dataset - Number of unique values in target is 3\n",
      "For test dataset - Number of unique values in id is 45\n",
      "For test dataset - Number of unique values in sepal length (cm) is 24\n",
      "For test dataset - Number of unique values in sepal width (cm) is 18\n",
      "For test dataset - Number of unique values in petal length (cm) is 21\n",
      "For test dataset - Number of unique values in petal width (cm) is 16\n"
     ]
    }
   ],
   "source": [
    "# Check Unique Values for each variable.\n",
    "for i in df_train.columns.tolist():\n",
    "    print(\"For train dataset - Number of unique values in\",i,\"is\",df_train[i].nunique())\n",
    "    \n",
    "for i in df_test.columns.tolist():\n",
    "    print(\"For test dataset - Number of unique values in\",i,\"is\",df_test[i].nunique())"
   ]
  },
  {
   "cell_type": "markdown",
   "id": "c0b175bd",
   "metadata": {},
   "source": [
    "#### 2.5 Data Wrangling"
   ]
  },
  {
   "cell_type": "code",
   "execution_count": 511,
   "id": "69a61dfe",
   "metadata": {},
   "outputs": [],
   "source": [
    "# We do not need the 1st column \"id\" so let's drop it\n",
    "train_data = df_train.iloc[:,1:]\n",
    "test_data = df_test.iloc[:,1:]"
   ]
  },
  {
   "cell_type": "code",
   "execution_count": 512,
   "id": "c1a20d9f",
   "metadata": {},
   "outputs": [
    {
     "data": {
      "text/html": [
       "<div>\n",
       "<style scoped>\n",
       "    .dataframe tbody tr th:only-of-type {\n",
       "        vertical-align: middle;\n",
       "    }\n",
       "\n",
       "    .dataframe tbody tr th {\n",
       "        vertical-align: top;\n",
       "    }\n",
       "\n",
       "    .dataframe thead th {\n",
       "        text-align: right;\n",
       "    }\n",
       "</style>\n",
       "<table border=\"1\" class=\"dataframe\">\n",
       "  <thead>\n",
       "    <tr style=\"text-align: right;\">\n",
       "      <th></th>\n",
       "      <th>sepal length (cm)</th>\n",
       "      <th>sepal width (cm)</th>\n",
       "      <th>petal length (cm)</th>\n",
       "      <th>petal width (cm)</th>\n",
       "      <th>target</th>\n",
       "    </tr>\n",
       "  </thead>\n",
       "  <tbody>\n",
       "    <tr>\n",
       "      <th>0</th>\n",
       "      <td>5.5</td>\n",
       "      <td>2.4</td>\n",
       "      <td>3.7</td>\n",
       "      <td>1.0</td>\n",
       "      <td>1</td>\n",
       "    </tr>\n",
       "    <tr>\n",
       "      <th>1</th>\n",
       "      <td>6.3</td>\n",
       "      <td>2.8</td>\n",
       "      <td>5.1</td>\n",
       "      <td>1.5</td>\n",
       "      <td>2</td>\n",
       "    </tr>\n",
       "    <tr>\n",
       "      <th>2</th>\n",
       "      <td>6.4</td>\n",
       "      <td>3.1</td>\n",
       "      <td>5.5</td>\n",
       "      <td>1.8</td>\n",
       "      <td>2</td>\n",
       "    </tr>\n",
       "    <tr>\n",
       "      <th>3</th>\n",
       "      <td>6.6</td>\n",
       "      <td>3.0</td>\n",
       "      <td>4.4</td>\n",
       "      <td>1.4</td>\n",
       "      <td>1</td>\n",
       "    </tr>\n",
       "    <tr>\n",
       "      <th>4</th>\n",
       "      <td>7.2</td>\n",
       "      <td>3.6</td>\n",
       "      <td>6.1</td>\n",
       "      <td>2.5</td>\n",
       "      <td>2</td>\n",
       "    </tr>\n",
       "  </tbody>\n",
       "</table>\n",
       "</div>"
      ],
      "text/plain": [
       "   sepal length (cm)  sepal width (cm)  petal length (cm)  petal width (cm)  \\\n",
       "0                5.5               2.4                3.7               1.0   \n",
       "1                6.3               2.8                5.1               1.5   \n",
       "2                6.4               3.1                5.5               1.8   \n",
       "3                6.6               3.0                4.4               1.4   \n",
       "4                7.2               3.6                6.1               2.5   \n",
       "\n",
       "   target  \n",
       "0       1  \n",
       "1       2  \n",
       "2       2  \n",
       "3       1  \n",
       "4       2  "
      ]
     },
     "execution_count": 512,
     "metadata": {},
     "output_type": "execute_result"
    }
   ],
   "source": [
    "train_data.head()"
   ]
  },
  {
   "cell_type": "code",
   "execution_count": 513,
   "id": "5eab23ab",
   "metadata": {},
   "outputs": [
    {
     "data": {
      "text/html": [
       "<div>\n",
       "<style scoped>\n",
       "    .dataframe tbody tr th:only-of-type {\n",
       "        vertical-align: middle;\n",
       "    }\n",
       "\n",
       "    .dataframe tbody tr th {\n",
       "        vertical-align: top;\n",
       "    }\n",
       "\n",
       "    .dataframe thead th {\n",
       "        text-align: right;\n",
       "    }\n",
       "</style>\n",
       "<table border=\"1\" class=\"dataframe\">\n",
       "  <thead>\n",
       "    <tr style=\"text-align: right;\">\n",
       "      <th></th>\n",
       "      <th>sepal length (cm)</th>\n",
       "      <th>sepal width (cm)</th>\n",
       "      <th>petal length (cm)</th>\n",
       "      <th>petal width (cm)</th>\n",
       "    </tr>\n",
       "  </thead>\n",
       "  <tbody>\n",
       "    <tr>\n",
       "      <th>0</th>\n",
       "      <td>6.1</td>\n",
       "      <td>2.8</td>\n",
       "      <td>4.7</td>\n",
       "      <td>1.2</td>\n",
       "    </tr>\n",
       "    <tr>\n",
       "      <th>1</th>\n",
       "      <td>5.7</td>\n",
       "      <td>3.8</td>\n",
       "      <td>1.7</td>\n",
       "      <td>0.3</td>\n",
       "    </tr>\n",
       "    <tr>\n",
       "      <th>2</th>\n",
       "      <td>7.7</td>\n",
       "      <td>2.6</td>\n",
       "      <td>6.9</td>\n",
       "      <td>2.3</td>\n",
       "    </tr>\n",
       "    <tr>\n",
       "      <th>3</th>\n",
       "      <td>6.0</td>\n",
       "      <td>2.9</td>\n",
       "      <td>4.5</td>\n",
       "      <td>1.5</td>\n",
       "    </tr>\n",
       "    <tr>\n",
       "      <th>4</th>\n",
       "      <td>6.8</td>\n",
       "      <td>2.8</td>\n",
       "      <td>4.8</td>\n",
       "      <td>1.4</td>\n",
       "    </tr>\n",
       "  </tbody>\n",
       "</table>\n",
       "</div>"
      ],
      "text/plain": [
       "   sepal length (cm)  sepal width (cm)  petal length (cm)  petal width (cm)\n",
       "0                6.1               2.8                4.7               1.2\n",
       "1                5.7               3.8                1.7               0.3\n",
       "2                7.7               2.6                6.9               2.3\n",
       "3                6.0               2.9                4.5               1.5\n",
       "4                6.8               2.8                4.8               1.4"
      ]
     },
     "execution_count": 513,
     "metadata": {},
     "output_type": "execute_result"
    }
   ],
   "source": [
    "test_data.head()"
   ]
  },
  {
   "cell_type": "markdown",
   "id": "162986ee",
   "metadata": {},
   "source": [
    "\n",
    "\n",
    "#### Summary of 2nd part (2.1 - 2.5):\n",
    "- The train.csv and test.csv datasets consist of length and width mesurements of sepal and petal for different species in centimeter with one difference - target variable in train.csv dataset. \n",
    "- Target variable consist species of the iris flower (setosa, versicolor, virginica) that we have to predict using testing data;\n",
    "- There are 105 rows and 6 columns provided in the train.csv dataset.\n",
    "- There are 45 rows and 5 columns provided in the test.csv dataset.\n"
   ]
  },
  {
   "cell_type": "markdown",
   "id": "888c2374",
   "metadata": {},
   "source": [
    "#### 2.6 Univariate Analysis: "
   ]
  },
  {
   "cell_type": "markdown",
   "id": "80cdc198",
   "metadata": {},
   "source": [
    "### Chart 1 - Histogram visualization for distribution of numerical variables\n",
    "\n",
    "In the next step I generate histogram to visualize the distribution of the four numerical variables in the train dataset, namely sepal length, sepal width, petal length, and petal width. \n",
    "\n",
    "For easy comparison the plots organizesd in a 2x2 grid of subplots. "
   ]
  },
  {
   "cell_type": "code",
   "execution_count": 514,
   "id": "f48aafcf",
   "metadata": {},
   "outputs": [
    {
     "data": {
      "image/png": "[encoded data removed]",
      "text/plain": [
       "<Figure size 576x432 with 4 Axes>"
      ]
     },
     "metadata": {
      "needs_background": "light"
     },
     "output_type": "display_data"
    }
   ],
   "source": [
    "# a figure with subplots\n",
    "\n",
    "plt.figure(figsize=(8, 6))\n",
    "plt.suptitle('Distribution of Iris Flower Measurements', fontsize=14)\n",
    "\n",
    "# 2x2 grid of subplots\n",
    "plt.subplot(2, 2, 1)  # subplot 1 (top-left)\n",
    "plt.hist(train_data['sepal length (cm)'], color='indigo')\n",
    "plt.title('Sepal Length Distribution')\n",
    "\n",
    "plt.subplot(2, 2, 2)  # subplot 2 (top-right)\n",
    "plt.hist(train_data['sepal width (cm)'], color='darkslateblue')\n",
    "plt.title('Sepal Width Distribution')\n",
    "\n",
    "plt.subplot(2, 2, 3)  # subplot 3 (bottom-left)\n",
    "plt.hist(train_data['petal length (cm)'], color='slateblue')\n",
    "plt.title('Petal Length Distribution')\n",
    "\n",
    "plt.subplot(2, 2, 4)  # subplot 4 (bottom-right)\n",
    "plt.hist(train_data['petal width (cm)'], color='blueviolet')\n",
    "plt.title('Petal Width Distribution')\n",
    "\n",
    "# visualisation of the subplots\n",
    "plt.tight_layout()\n",
    "plt.show()"
   ]
  },
  {
   "cell_type": "markdown",
   "id": "8e71e0d9",
   "metadata": {},
   "source": [
    "##### Based on the chart 1 results from each histogram:\n",
    "\n",
    "- Sepal Length Distribution:\n",
    "The distribution of the sepal length shows a uniform spread with peaks around 5.0 cm and 6.0 cm.\n",
    "The data appears to be more concentrated in the middle range, from approximately 4.5 cm to 7.0 cm, with relatively fewer values on the extremes (less than 4.5 cm and more than 7.5 cm).\n",
    "There is no distinct skewness, but the distribution seems to have multiple peaks, indicating that probably the sepal length varies across the different iris species.\n",
    "- Sepal Width Distribution\n",
    "The sepal width is more normally distributed, resembling a bell curve with the highest concentration around 3.0 cm.\n",
    "There is a gradual tapering off on both sides, with values ranging between 2.0 cm and 4.0 cm.\n",
    "The majority of the data falls between 2.5 cm and 3.5 cm, indicating that the sepal width is less varied compared to the sepal length.\n",
    "- Petal Length Distribution\n",
    "The petal length shows a more bimodal distribution, with a significant concentration of values around 1.0 cm and another cluster between 4.5 cm and 6.0 cm.\n",
    "This suggests a stark difference in petal length between different iris species. Some species have much shorter petals, while others have significantly longer ones.\n",
    "The histogram reveals that petal length is a strong feature that may help in distinguishing between the iris species.\n",
    "- Petal Width Distribution\n",
    "Petal width also displays a bimodal distribution, with peaks around 0.0 cm and 1.5 cm.\n",
    "This strong separation between smaller and larger values is indicative of different groups within the dataset, where one species has much narrower petals compared to the others.\n",
    "As with petal length, this variable appears to be a key differentiator among the iris species.\n",
    "\n",
    "##### Overall Insights:\n",
    "- Sepal measurements (length and width) have a more even or normal distribution, but the variability isn't as distinct as the petal measurements.\n",
    "- Petal measurements (length and width) exhibit more pronounced bimodal distributions, which strongly suggests that they will be highly useful in distinguishing between iris species in the classification task.\n",
    "- Chart 1 histograms suggest that petal length and width are likely more influential features in building our machine learning model, as they show clearer differences across the species.\n"
   ]
  },
  {
   "cell_type": "markdown",
   "id": "d4e774c1",
   "metadata": {},
   "source": [
    "#### 2.7 Bivariate Analysis"
   ]
  },
  {
   "cell_type": "markdown",
   "id": "23e9f199",
   "metadata": {},
   "source": [
    "### Chart 2 - Scatter plot visualization for Sepal Length vs Sepal Width:\n"
   ]
  },
  {
   "cell_type": "markdown",
   "id": "174d8aae",
   "metadata": {},
   "source": [
    "Lets observe the relationship between Sepal Length and Sepal Width for the three species of Iris flowers: setosa, versicolor, and virginica. "
   ]
  },
  {
   "cell_type": "code",
   "execution_count": 515,
   "id": "a3c3dac1",
   "metadata": {},
   "outputs": [
    {
     "data": {
      "image/png": "[encoded data removed]",
      "text/plain": [
       "<Figure size 576x432 with 1 Axes>"
      ]
     },
     "metadata": {
      "needs_background": "light"
     },
     "output_type": "display_data"
    }
   ],
   "source": [
    "# define colors and species names for the corresponding target values\n",
    "colors = ['blueviolet', 'purple', 'indigo']\n",
    "species = ['setosa', 'versicolor', 'virginica']  # actual species names\n",
    "target = [0, 1, 2]\n",
    "\n",
    "# creating a scatter plot for Sepal Length vs Sepal Width for each species\n",
    "plt.figure(figsize=(8, 6))\n",
    "for i in range(3):\n",
    "    x = train_data[train_data['target'] == target[i]]\n",
    "    \n",
    "    # creating a scatter plot with the specified color and label for the current species\n",
    "    plt.scatter(x['sepal length (cm)'], x['sepal width (cm)'], c=colors[i], label=species[i])\n",
    "\n",
    "plt.xlabel('Sepal Length (cm)')\n",
    "plt.ylabel('Sepal Width (cm)')\n",
    "plt.title('Sepal Length vs Sepal Width by Species')\n",
    "plt.legend(title='Species')\n",
    "plt.show()\n"
   ]
  },
  {
   "cell_type": "markdown",
   "id": "b2a5dcdc",
   "metadata": {},
   "source": [
    "##### Based on the chart 2:\n",
    "\n",
    "- Setosa (Blueviolet):\n",
    "\n",
    "Cluster Location: Setosa forms a distinct cluster in the upper-left corner of the plot, where sepal width is larger (ranging from 3.0 cm to 4.5 cm) and sepal length is shorter (between 4.5 cm and 5.5 cm).\n",
    "\n",
    "Clear Separation: Setosa is well-separated from both versicolor and virginica, particularly due to its wider sepal width and shorter sepal length. This makes it easy to distinguish from the other species using sepal measurements alone.\n",
    "\n",
    "- Versicolor (Purple):\n",
    "\n",
    "Cluster Location: Versicolor is positioned in the middle of the plot, with sepal length ranging from 5.0 cm to 6.5 cm and sepal width between 2.5 cm and 3.5 cm.\n",
    "\n",
    "Overlap with Virginica: Versicolor shows some overlap with virginica, especially at the lower end of virginica’s range for sepal length. This suggests that while versicolor has a moderately distinct cluster, it may not be as easily distinguishable from virginica based on sepal length and width alone.\n",
    "\n",
    "- Virginica (Indigo):\n",
    "\n",
    "Cluster Location: Virginica occupies the right side of the plot, with sepal length values ranging from 6.0 cm to 7.5 cm and sepal width between 2.5 cm and 3.5 cm.\n",
    "\n",
    "Overlap with Versicolor: There is significant overlap between virginica and versicolor in terms of sepal width, though virginica generally has a longer sepal length. This overlap suggests that additional features, such as petal dimensions, may be necessary to fully distinguish between the two species.\n",
    "\n",
    "##### Overall Insights:\n",
    "The chart effectively demonstrates that sepal measurements alone can separate setosa from the other two species but are less effective at clearly separating versicolor from virginica.\n",
    "Sepal Length appears to be a more distinguishing feature than Sepal Width when comparing all three species, especially between versicolor and virginica.\n"
   ]
  },
  {
   "cell_type": "markdown",
   "id": "2458232d",
   "metadata": {},
   "source": [
    "### Chart 3 - Scatter plot visualization for Petal Length vs Petal Width."
   ]
  },
  {
   "cell_type": "code",
   "execution_count": 516,
   "id": "cf81d348",
   "metadata": {},
   "outputs": [
    {
     "data": {
      "image/png": "[encoded data removed]",
      "text/plain": [
       "<Figure size 576x432 with 1 Axes>"
      ]
     },
     "metadata": {
      "needs_background": "light"
     },
     "output_type": "display_data"
    }
   ],
   "source": [
    "# creating a scatter plot for Sepal Length vs Sepal Width for each species\n",
    "plt.figure(figsize=(8, 6))\n",
    "for i in range(3):\n",
    "    x = train_data[train_data['target'] == target[i]]\n",
    "    \n",
    "    # creating a scatter plot with the specified color and label for the current species\n",
    "    plt.scatter(x['petal length (cm)'], x['petal width (cm)'], c=colors[i], label=species[i])\n",
    "\n",
    "plt.xlabel('Petal Length (cm)')\n",
    "plt.ylabel('Petal Width (cm)')\n",
    "plt.title('Petal Length vs Petal Width by Species')\n",
    "plt.legend(title='Species')\n",
    "plt.show()"
   ]
  },
  {
   "cell_type": "markdown",
   "id": "d89b5fbd",
   "metadata": {},
   "source": [
    "##### Based on the chart 3:\n",
    "\n",
    "- Setosa (Blueviolet):\n",
    "\n",
    "Cluster Location: Setosa is tightly clustered in the lower-left corner of the plot. Its petal length ranges from about 1.0 cm to 1.9 cm, and petal width ranges from about 0.0 cm to 0.6 cm.\n",
    "\n",
    "Distinct Separation: Setosa shows clear separation from the other two species, making it easily distinguishable based on petal dimensions. This cluster indicates that petal length and petal width are highly effective features for identifying Setosa.\n",
    "\n",
    "- Versicolor (Purple):\n",
    "\n",
    "Cluster Location: Versicolor points are located in the middle of the plot, with petal length ranging from 3.0 cm to 5.0 cm and petal width from about 1.0 cm to 1.8 cm.\n",
    "\n",
    "Slight Overlap: There is some overlap between the upper range of versicolor and the lower range of virginica. \n",
    "\n",
    "- Virginica (Indigo):\n",
    "\n",
    "Cluster Location: Virginica exhibits the largest values for both petal length and petal width, with petal length ranging from 4.5 cm to 6.9 cm and petal width from about 1.5 cm to 2.5 cm.\n",
    "\n",
    "Separation from Setosa: Virginica is well separated from setosa in terms of both petal length and width, though there is some overlap with versicolor at the lower range of virginica’s petal length.\n",
    "\n",
    "##### Overall Insights:\n",
    "The chart effectively demonstrates that petal measurements (length and width) can very clearly separate setosa from the other two species, as it forms a distinct cluster in the lower-left corner. Additionally, petal measurements provide much better separation between versicolor and virginica compared to sepal measurements. In particular, Petal Length appears to be a more distinguishing feature than Petal Width, especially when comparing versicolor and virginica. As virginica has significantly larger petal dimensions, petal length and width are more effective at differentiating these species, making them strong predictors in classification tasks."
   ]
  },
  {
   "cell_type": "markdown",
   "id": "bda9e7b3",
   "metadata": {},
   "source": [
    "### Chart 4 - Scatter plot visualization for Sepal Length vs Petal Length."
   ]
  },
  {
   "cell_type": "code",
   "execution_count": 517,
   "id": "a9c16fa0",
   "metadata": {},
   "outputs": [
    {
     "data": {
      "image/png": "[encoded data removed]",
      "text/plain": [
       "<Figure size 576x432 with 1 Axes>"
      ]
     },
     "metadata": {
      "needs_background": "light"
     },
     "output_type": "display_data"
    }
   ],
   "source": [
    "# creating a scatter plot for Sepal Length vs Petal Length for each species\n",
    "plt.figure(figsize=(8, 6))\n",
    "for i in range(3):\n",
    "    x = train_data[train_data['target'] == target[i]]\n",
    "    \n",
    "    # creating a scatter plot with the specified color and label for the current species\n",
    "    plt.scatter(x['sepal length (cm)'], x['petal length (cm)'], c=colors[i], label=species[i])\n",
    "\n",
    "plt.xlabel('Sepal Length (cm)')\n",
    "plt.ylabel('Petal Length (cm)')\n",
    "plt.title('Sepal Length vs Petal Length by Species')\n",
    "plt.legend(title='Species')\n",
    "plt.show()"
   ]
  },
  {
   "cell_type": "markdown",
   "id": "9ba1e571",
   "metadata": {},
   "source": [
    "#### Based on chart 4: \n",
    "\n",
    "- Setosa (Blueviolet):\n",
    "\n",
    "Cluster Location: Setosa forms a tight cluster in the bottom-left corner of the plot. Sepal length for setosa ranges between 4.5 cm to 5.5 cm, while petal length is much smaller, staying consistently between 1.0 cm to 2.0 cm.\n",
    "\n",
    "Clear Separation: Setosa is clearly distinguishable from both versicolor and virginica. Its shorter petal length is a key feature that separates it distinctly from the other two species, as no overlap occurs with the higher petal lengths of versicolor and virginica.\n",
    "\n",
    "- Versicolor (Purple):\n",
    "\n",
    "Cluster Location: Versicolor occupies the middle of the plot, with sepal length ranging from 5.0 cm to 6.5 cm and petal length between 3.0 cm to 5.0 cm.\n",
    "\n",
    "Overlap with Virginica: There is some overlap with virginica, particularly in the 5.0 cm to 6.0 cm sepal length range. Versicolor tends to have a slightly smaller petal length compared to virginica, but the overlap in their ranges suggests that additional features (such as petal width) might be needed for a more accurate separation.\n",
    "\n",
    "- Virginica (Indigo):\n",
    "\n",
    "Cluster Location: Virginica occupies the top-right region of the plot, with the largest values for both sepal length (ranging from 6.0 cm to 7.5 cm) and petal length (between 4.5 cm to 6.9 cm).\n",
    "\n",
    "Overlap with Versicolor: There is some overlap between virginica and versicolor in the lower range of virginica's petal length (between 4.5 cm and 5.0 cm), but virginica generally occupies a higher range in both sepal and petal lengths, making it possible to distinguish it from versicolor at the extreme ends.\n",
    "\n",
    "\n",
    "##### Overall Insights:\n",
    "Sepal Length and Petal Length provide good separation between species. While setosa forms a distinct, easily separable cluster with much shorter petal lengths and smaller sepal lengths compared to the other two species, the overlap between versicolor and virginica, particularly in the mid-range of sepal length (around 5.0 cm to 6.5 cm) and petal length (around 4.5 cm to 5.0 cm), suggests that petal length and sepal length alone may not fully separate them. Still, the trend shows that virginica generally has longer sepals and petals, which can help separate it from versicolor in most cases.\n",
    "Petal Length appears to be a key feature for distinguishing these species, especially in separating setosa from versicolor and virginica."
   ]
  },
  {
   "cell_type": "markdown",
   "id": "40f9f274",
   "metadata": {},
   "source": [
    "### Chart 5 - Scatter plot visualization  for Sepal Width vs Petal Width.\n"
   ]
  },
  {
   "cell_type": "code",
   "execution_count": 518,
   "id": "4d742e49",
   "metadata": {},
   "outputs": [
    {
     "data": {
      "image/png": "[encoded data removed]",
      "text/plain": [
       "<Figure size 576x432 with 1 Axes>"
      ]
     },
     "metadata": {
      "needs_background": "light"
     },
     "output_type": "display_data"
    }
   ],
   "source": [
    "# creating a scatter plot for Sepal Width vs Petal Width for each species\n",
    "plt.figure(figsize=(8, 6))\n",
    "for i in range(3):\n",
    "    x = train_data[train_data['target'] == target[i]]\n",
    "    \n",
    "    # creating a scatter plot with the specified color and label for the current species\n",
    "    plt.scatter(x['sepal width (cm)'], x['petal width (cm)'], c=colors[i], label=species[i])\n",
    "\n",
    "plt.xlabel('Sepal Width (cm)')\n",
    "plt.ylabel('Petal Width (cm)')\n",
    "plt.title('Sepal Width vs Petal Width by Species')\n",
    "plt.legend(title='Species')\n",
    "plt.show()"
   ]
  },
  {
   "cell_type": "markdown",
   "id": "0dc79049",
   "metadata": {},
   "source": [
    "#### Based on Chart 5:\n",
    "\n",
    "- Setosa (Blueviolet):\n",
    "\n",
    "Cluster Location: Setosa forms a distinct horizontal cluster at the bottom of the plot. The sepal width ranges from 2.5 cm to 4.0 cm, while the petal width remains consistently small, ranging from 0.0 cm to 0.6 cm.\n",
    "\n",
    "Clear Separation: Setosa’s small petal width and relatively larger sepal width make it easily distinguishable from versicolor and virginica. It forms a distinct cluster, similar to previous plots, showing clear separation from the other species.\n",
    "\n",
    "- Versicolor (Purple):\n",
    "\n",
    "Cluster Location: Versicolor occupies the middle section of the plot. Sepal width ranges from 2.0 cm to 3.5 cm, while petal width varies between 1.0 cm and 1.8 cm.\n",
    "\n",
    "Overlap with Virginica: There is significant overlap between versicolor and virginica in both sepal width and petal width. Although the petal width for versicolor is generally smaller, the overlap makes it more difficult to distinguish these species based solely on these two features.\n",
    "\n",
    "- Virginica (Indigo):\n",
    "\n",
    "Cluster Location: Virginica is mostly found in the top-right region of the plot. Sepal width ranges from 2.5 cm to 3.5 cm, and petal width is between 1.4 cm and 2.5 cm.\n",
    "\n",
    "Overlap with Versicolor: There is considerable overlap between virginica and versicolor, particularly around sepal width values of 2.5 cm to 3.5 cm. However, virginica typically has a larger petal width, especially toward the upper range of the plot, where it tends to have the largest petal widths.\n",
    "\n",
    "##### Overall Insights:\n",
    "\n",
    "Setosa forms a well-separated cluster, with significantly smaller petal width, making it easy to distinguish.\n",
    "Versicolor and virginica overlap significantly in both sepal width and petal width, making it challenging to separate these species based solely on these two features.\n",
    "Petal width remains an important feature for distinguishing between the species, particularly in separating setosa from the others. However, to further differentiate between versicolor and virginica, other features (such as petal length) may need to be considered.\n"
   ]
  },
  {
   "cell_type": "markdown",
   "id": "b96d1a89",
   "metadata": {},
   "source": [
    "### Chart 6 - Count Plot of Sepal Length Distribution Across Iris Species\n",
    "\n",
    "This count plot visualizes the distribution of sepal length values across the three Iris species (Setosa, Versicolor, and Virginica). It gives us more detailed representation than in Chart 1. \n",
    "\n",
    "The bars represent the frequency of each sepal length value, and the color divisions indicate the contribution of each species to the overall count for that sepal length."
   ]
  },
  {
   "cell_type": "code",
   "execution_count": 519,
   "id": "6fdedd5d",
   "metadata": {},
   "outputs": [
    {
     "data": {
      "image/png": "[encoded data removed]",
      "text/plain": [
       "<Figure size 1080x432 with 1 Axes>"
      ]
     },
     "metadata": {
      "needs_background": "light"
     },
     "output_type": "display_data"
    }
   ],
   "source": [
    "plt.figure(figsize =(15,6))\n",
    "sns.countplot(x='sepal length (cm)', data=train_data, hue= train_data['target'], palette= 'winter')\n",
    "plt.show()"
   ]
  },
  {
   "cell_type": "markdown",
   "id": "df0e5eb8",
   "metadata": {},
   "source": [
    "##### Based on Chart 6: \n",
    "\n",
    "- Setosa (0-blue): Most of the Setosa flowers have a smaller sepal length, with peaks at 4.9 cm and 5.0 cm. Setosa species are largely clustered towards the left side of the plot (smaller sepal lengths), showing that Setosa flowers typically have shorter sepals.\n",
    "\n",
    "- Versicolor (1-green): The Versicolor species covers a broader range of sepal lengths, with notable peaks at 6.0 cm and 5.5 cm. This species is spread out over the middle portion of the plot, indicating that it generally has medium-sized sepals.\n",
    "\n",
    "- Virginica (2-teal): Virginica species generally have larger sepals, with peaks at 6.3 cm, 6.6 cm, and 7.2 cm. This species dominates the right side of the plot, reflecting that Virginica flowers have longer sepals.\n",
    "\n",
    "##### Overall Insights:\n",
    "This plot clearly shows a separation of species based on sepal length. Setosa has the shortest sepals, while Virginica has the longest. Versicolor occupies the middle range of sepal lengths. This indicates that sepal length is a distinguishing feature for species classification in the Iris dataset.\n",
    "\n"
   ]
  },
  {
   "cell_type": "markdown",
   "id": "86a34cbb",
   "metadata": {},
   "source": [
    "### Chart 7 - Count Plot of Sepal Width Distribution Across Iris Species¶"
   ]
  },
  {
   "cell_type": "code",
   "execution_count": 520,
   "id": "a58e51b5",
   "metadata": {},
   "outputs": [
    {
     "data": {
      "image/png": "[encoded data removed]",
      "text/plain": [
       "<Figure size 1080x432 with 1 Axes>"
      ]
     },
     "metadata": {
      "needs_background": "light"
     },
     "output_type": "display_data"
    }
   ],
   "source": [
    "plt.figure(figsize =(15,6))\n",
    "sns.countplot(x='sepal width (cm)', data=train_data, hue= train_data['target'], palette= 'autumn')\n",
    "plt.show()"
   ]
  },
  {
   "cell_type": "markdown",
   "id": "fe4eea40",
   "metadata": {},
   "source": [
    "##### Based on Chart 7: \n",
    "\n",
    "- Setosa (0 - orange): The Setosa species tends to have relatively wider sepals, with notable counts at 3.4 cm, 3.5 cm, and 3.6 cm. This indicates that Setosa flowers typically have sepals that are wider than those of the other species.\n",
    "\n",
    "- Versicolor (1 - light orange): Versicolor appears more frequently in the middle range of 2.5 cm to 3.1 cm. This indicates that Versicolor flowers generally have medium-width sepals compared to the other two species.\n",
    "\n",
    "- Virginica (2 - yellow): Virginica has a broader distribution, with peaks at 2.7 cm, 3.0 cm, and 3.2 cm, indicating that it covers a slightly wider range than Versicolor, but still does not overlap with Setosa’s wider sepals.\n",
    "\n",
    "\n",
    "##### Overall Insights:\n",
    "The plot shows that sepal width is a distinguishing feature, particularly for Setosa, which has noticeably wider sepals than both Versicolor and Virginica. Versicolor and Virginica overlap more in terms of sepal width, although Virginica generally has a broader range of sepal width values.\n",
    "\n"
   ]
  },
  {
   "cell_type": "markdown",
   "id": "5d47e4ef",
   "metadata": {},
   "source": [
    "### Chart 8 - Count Plot of Petal Length Distribution Across Iris Species"
   ]
  },
  {
   "cell_type": "code",
   "execution_count": 521,
   "id": "41c4d5d1",
   "metadata": {},
   "outputs": [
    {
     "data": {
      "image/png": "[encoded data removed]",
      "text/plain": [
       "<Figure size 1080x432 with 1 Axes>"
      ]
     },
     "metadata": {
      "needs_background": "light"
     },
     "output_type": "display_data"
    }
   ],
   "source": [
    "plt.figure(figsize =(15,6))\n",
    "sns.countplot(x='petal length (cm)', data=train_data, hue= train_data['target'], palette= 'magma')\n",
    "plt.show()"
   ]
  },
  {
   "cell_type": "markdown",
   "id": "91f86e92",
   "metadata": {},
   "source": [
    "##### Based on Chart 8:\n",
    "- Setosa (0): Setosa species is dominant on the left side of the plot, with petal lengths ranging from 1.1 cm to 1.9 cm, with a peak around 1.4 cm. This indicates that Setosa flowers tend to have much smaller petals compared to the other two species.\n",
    "\n",
    "- Versicolor (1): Versicolor species is more prevalent in the middle range of petal lengths, between 3.0 cm and 5.1 cm, with peaks around 4.0 cm and 4.5 cm. This suggests that Versicolor has medium-sized petals compared to the other species.\n",
    "\n",
    "- Virginica (2): Virginica species appears mostly on the right side, with petal lengths between 4.5 cm and 6.7 cm, and peaks at 5.1 cm, 5.7 cm, and 6.3 cm. Virginica has the longest petal lengths, distinguishing it clearly from Setosa and somewhat from Versicolor.\n",
    "\n",
    "##### Overall Insights:\n",
    "This chart clearly shows that petal length is a key feature that differentiates the three species of Iris flowers. Setosa has significantly shorter petals, while Virginica tends to have the longest petals, and Versicolor falls in between, with a moderate range of petal lengths. This pattern suggests that petal length is an important distinguishing characteristic for species classification.\n",
    "\n"
   ]
  },
  {
   "cell_type": "markdown",
   "id": "1fdbae3d",
   "metadata": {},
   "source": [
    "### Chart 9 - Count Plot of Petal Width Distribution Across Iris Species"
   ]
  },
  {
   "cell_type": "code",
   "execution_count": 522,
   "id": "a1c45aa9",
   "metadata": {},
   "outputs": [
    {
     "data": {
      "image/png": "[encoded data removed]",
      "text/plain": [
       "<Figure size 1080x432 with 1 Axes>"
      ]
     },
     "metadata": {
      "needs_background": "light"
     },
     "output_type": "display_data"
    }
   ],
   "source": [
    "plt.figure(figsize =(15,6))\n",
    "sns.countplot(x='petal width (cm)', data=train_data, hue= train_data['target'], palette= 'Blues')\n",
    "plt.show()"
   ]
  },
  {
   "cell_type": "markdown",
   "id": "397ca44c",
   "metadata": {},
   "source": [
    "##### Based on Chart 8:\n",
    "\n",
    "- Setosa (0): Setosa is mostly concentrated on the left side, with petal widths between 0.1 cm and 0.6 cm, and the highest count is for a petal width of 0.2 cm. This pattern shows that Setosa has the narrowest petal widths among the three species.\n",
    "\n",
    "- Versicolor (1): Versicolor appears in the middle range of petal widths, between 1.0 cm and 1.8 cm, with peaks around 1.3 cm and 1.8 cm. This suggests that Versicolor has moderately wider petals compared to Setosa, but still narrower than Virginica.\n",
    "\n",
    "- Virginica (2): Virginica is represented mostly in the right side, with petal widths between 1.6 cm and 2.5 cm, and peaks at 1.8 cm and 2.2 cm. Virginica species has the widest petal widths overall, making it easy to distinguish from the other two species.\n",
    "\n",
    "##### Overall Insights:\n",
    "This plot highlights how petal width is a distinguishing feature for the Iris species. Setosa has the narrowest petal widths, Virginica has the widest, and Versicolor falls in between. These clear differences in petal width make it an important characteristic for classification.\n",
    "\n"
   ]
  },
  {
   "cell_type": "markdown",
   "id": "a9839112",
   "metadata": {},
   "source": [
    "### Chart 10 - Correlation Heatmap Visualization\n"
   ]
  },
  {
   "cell_type": "markdown",
   "id": "dda0cb7a",
   "metadata": {},
   "source": [
    "Lets plot a table showing correlation coefficients between variables in a dataset. It helps to understand how different features are related to each other in terms of linear relationships.\n",
    "\n",
    "In this project, the correlation matrix helps in identifying which features of the iris flowers (sepal length, sepal width, petal length, and petal width) are strongly related and which features might be independent. This is useful for determining which features are most important in classifying the iris species.\n",
    "\n",
    "A value of 1 means a perfect positive linear relationship (as one feature increases, the other also increases).\n",
    "A value of -1 means a perfect negative linear relationship (as one feature increases, the other decreases).\n",
    "A value close to 0 indicates no linear relationship between the features."
   ]
  },
  {
   "cell_type": "markdown",
   "id": "322f2516",
   "metadata": {},
   "source": [
    "We do not need the target variable (which represents the species labels) in our correlation matrix. This is because the correlation matrix is primarily used to analyze the linear relationships between numerical features in the dataset. The target column is categorical (even if encoded numerically), so its inclusion in the correlation matrix doesn’t provide meaningful insights for feature relationships and just lead to confusion."
   ]
  },
  {
   "cell_type": "code",
   "execution_count": 523,
   "id": "64541dc5",
   "metadata": {},
   "outputs": [
    {
     "data": {
      "image/png": "[encoded data removed]",
      "text/plain": [
       "<Figure size 720x432 with 2 Axes>"
      ]
     },
     "metadata": {
      "needs_background": "light"
     },
     "output_type": "display_data"
    }
   ],
   "source": [
    "# Exclude the 'target' column when calculating the correlation matrix\n",
    "corr_matrix = train_data.drop(columns=['target']).corr()\n",
    "\n",
    "# Plot the Heatmap\n",
    "plt.figure(figsize=(10, 6))\n",
    "sns.heatmap(corr_matrix, annot=True, cmap='twilight_shifted', fmt='.2f')\n",
    "\n",
    "# Setting Labels\n",
    "plt.title('Correlation Matrix Heatmap', fontsize=14)\n",
    "\n",
    "# Display the Chart\n",
    "plt.show()"
   ]
  },
  {
   "cell_type": "markdown",
   "id": "edc7af1a",
   "metadata": {},
   "source": [
    "1. Petal Length:\n",
    "- Petal Width: Petal length has a very strong positive correlation with petal width (0.96). This indicates that as petal length increases, petal width also increases almost proportionally.\n",
    "- Sepal Length: Petal length is also strongly positively correlated with sepal length (0.87). This suggests that flowers with longer petals tend to also have longer sepals.\n",
    "- Sepal Width: Petal length has a moderate negative correlation with sepal width (-0.34). This means that flowers with wider sepals tend to have slightly shorter petals, but the relationship is weak.\n",
    "\n",
    "2. Petal Width:\n",
    "- Petal Length: As already mentioned, petal width is very strongly correlated with petal length (0.96). This strong relationship suggests that both petal dimensions increase together.\n",
    "- Sepal Length: Petal width has a strong positive correlation with sepal length (0.80). Flowers with wider petals tend to have longer sepals, though the relationship is not as strong as with petal length.\n",
    "- Sepal Width: Petal width is weakly negatively correlated with sepal width (-0.27). This means that flowers with wider sepals tend to have slightly narrower petals, but the relationship is weak.\n",
    "\n",
    "3. Sepal Length:\n",
    "- Petal Length: Sepal length is strongly positively correlated with petal length (0.87). Longer sepals tend to accompany longer petals.\n",
    "- Petal Width: Sepal length also has a strong positive correlation with petal width (0.80). This suggests that flowers with longer sepals tend to have wider petals.\n",
    "- Sepal Width: Sepal length has an almost zero correlation with sepal width (-0.03), meaning there is virtually no relationship between these two features.\n",
    "\n",
    "4. Sepal Width:\n",
    "- Sepal Length: Sepal width shows no meaningful correlation with sepal length (-0.03), indicating that the length of the sepals and their width vary independently.\n",
    "- Petal Length: Sepal width is moderately negatively correlated with petal length (-0.34). This means that flowers with wider sepals tend to have slightly shorter petals, but the relationship is weak.\n",
    "- Petal Width: Sepal width also shows a weak negative correlation with petal width (-0.27), suggesting that wider sepals are weakly associated with narrower petals.\n",
    "\n",
    "\n",
    "##### Summary:\n",
    "- Petal dimensions (length and width) are highly correlated with each other, suggesting they will likely be crucial features for classification.\n",
    "- Sepal length is positively correlated with both petal length and petal width, making it a useful feature, though slightly less so than petal dimensions.\n",
    "- Sepal width has weak or no correlations with other features, suggesting it may not be as important for classification.\n"
   ]
  },
  {
   "cell_type": "markdown",
   "id": "d37487bf",
   "metadata": {},
   "source": [
    "### Part 3 - Feature Scaling\n",
    "\n",
    "#### 3.1 Standardization train and test sets using StandardScaler.\n",
    "\n",
    "Features like sepal length, sepal width, petal length, and petal width are measured in centimeters, and the ranges of these features can vary significantly.\n",
    "Models like Logistic Regression, SVM, and Neural Networks are sensitive to the range of input values and perform better when the data is scaled. For example, in the train dataset, petal length ranges from around 1.2 cm to 6.1 cm, and petal width ranges from 0.2 cm to 2.5 cm. These different ranges can affect the performance of distance-based algorithms.\n",
    "\n",
    "We should apply scaling to both the train and test datasets. Fit the scaler on the training data and then transform both the training and test datasets using the same scaler. This ensures that both datasets are on the same scale without any data leakage."
   ]
  },
  {
   "cell_type": "code",
   "execution_count": 524,
   "id": "c6dedfb6",
   "metadata": {},
   "outputs": [],
   "source": [
    "from sklearn.preprocessing import StandardScaler\n",
    "\n",
    "# define features (x) and target (y) for training data\n",
    "x_train = train_data.drop(columns=['target'])\n",
    "y_train = train_data['target']\n",
    "\n",
    "scaler = StandardScaler()\n",
    "# fit the scaler on the training data\n",
    "scaler.fit(x_train)\n",
    "\n",
    "# transform both the training and test data\n",
    "x_train_scaled = scaler.transform(x_train)\n",
    "x_test_scaled = scaler.transform(test_data) "
   ]
  },
  {
   "cell_type": "markdown",
   "id": "a319f173",
   "metadata": {},
   "source": [
    "Since the project provides us with train.csv and test.csv, we do not need to manually split the data using train_test_split(). The test set (test.csv) does not include the target labels (y_test), which means we won’t have y_test unless the true labels are released later for evaluation (because of competition)."
   ]
  },
  {
   "cell_type": "markdown",
   "id": "c40d9b2d",
   "metadata": {},
   "source": [
    "#### 3.2 Checking the train distribution of dependent variable"
   ]
  },
  {
   "cell_type": "code",
   "execution_count": 525,
   "id": "8c574cc5",
   "metadata": {},
   "outputs": [
    {
     "data": {
      "text/plain": [
       "1    37\n",
       "2    37\n",
       "0    31\n",
       "Name: target, dtype: int64"
      ]
     },
     "execution_count": 525,
     "metadata": {},
     "output_type": "execute_result"
    }
   ],
   "source": [
    "y_train.value_counts()"
   ]
  },
  {
   "cell_type": "markdown",
   "id": "69b9117d",
   "metadata": {},
   "source": [
    "### Part 4 - ML models"
   ]
  },
  {
   "cell_type": "markdown",
   "id": "5db329dd",
   "metadata": {},
   "source": [
    "Because we do not have y_test, we will train models on the training data and use the test data solely for predictions."
   ]
  },
  {
   "cell_type": "markdown",
   "id": "7dd863d2",
   "metadata": {},
   "source": [
    "### 4.1 Logistic Regression\n"
   ]
  },
  {
   "cell_type": "markdown",
   "id": "8569d858",
   "metadata": {},
   "source": [
    "Step 1: Import Logistic Regression and initialize the model"
   ]
  },
  {
   "cell_type": "code",
   "execution_count": 526,
   "id": "e9616176",
   "metadata": {},
   "outputs": [],
   "source": [
    "from sklearn.linear_model import LogisticRegression\n",
    "lr_model = LogisticRegression(random_state=42)"
   ]
  },
  {
   "cell_type": "markdown",
   "id": "05efbd7e",
   "metadata": {},
   "source": [
    "Step 2: Fit the model on the scaled training data"
   ]
  },
  {
   "cell_type": "code",
   "execution_count": 527,
   "id": "bed80e97",
   "metadata": {},
   "outputs": [
    {
     "data": {
      "text/html": [
       "<style>#sk-container-id-27 {color: black;}#sk-container-id-27 pre{padding: 0;}#sk-container-id-27 div.sk-toggleable {background-color: white;}#sk-container-id-27 label.sk-toggleable__label {cursor: pointer;display: block;width: 100%;margin-bottom: 0;padding: 0.3em;box-sizing: border-box;text-align: center;}#sk-container-id-27 label.sk-toggleable__label-arrow:before {content: \"▸\";float: left;margin-right: 0.25em;color: #696969;}#sk-container-id-27 label.sk-toggleable__label-arrow:hover:before {color: black;}#sk-container-id-27 div.sk-estimator:hover label.sk-toggleable__label-arrow:before {color: black;}#sk-container-id-27 div.sk-toggleable__content {max-height: 0;max-width: 0;overflow: hidden;text-align: left;background-color: #f0f8ff;}#sk-container-id-27 div.sk-toggleable__content pre {margin: 0.2em;color: black;border-radius: 0.25em;background-color: #f0f8ff;}#sk-container-id-27 input.sk-toggleable__control:checked~div.sk-toggleable__content {max-height: 200px;max-width: 100%;overflow: auto;}#sk-container-id-27 input.sk-toggleable__control:checked~label.sk-toggleable__label-arrow:before {content: \"▾\";}#sk-container-id-27 div.sk-estimator input.sk-toggleable__control:checked~label.sk-toggleable__label {background-color: #d4ebff;}#sk-container-id-27 div.sk-label input.sk-toggleable__control:checked~label.sk-toggleable__label {background-color: #d4ebff;}#sk-container-id-27 input.sk-hidden--visually {border: 0;clip: rect(1px 1px 1px 1px);clip: rect(1px, 1px, 1px, 1px);height: 1px;margin: -1px;overflow: hidden;padding: 0;position: absolute;width: 1px;}#sk-container-id-27 div.sk-estimator {font-family: monospace;background-color: #f0f8ff;border: 1px dotted black;border-radius: 0.25em;box-sizing: border-box;margin-bottom: 0.5em;}#sk-container-id-27 div.sk-estimator:hover {background-color: #d4ebff;}#sk-container-id-27 div.sk-parallel-item::after {content: \"\";width: 100%;border-bottom: 1px solid gray;flex-grow: 1;}#sk-container-id-27 div.sk-label:hover label.sk-toggleable__label {background-color: #d4ebff;}#sk-container-id-27 div.sk-serial::before {content: \"\";position: absolute;border-left: 1px solid gray;box-sizing: border-box;top: 0;bottom: 0;left: 50%;z-index: 0;}#sk-container-id-27 div.sk-serial {display: flex;flex-direction: column;align-items: center;background-color: white;padding-right: 0.2em;padding-left: 0.2em;position: relative;}#sk-container-id-27 div.sk-item {position: relative;z-index: 1;}#sk-container-id-27 div.sk-parallel {display: flex;align-items: stretch;justify-content: center;background-color: white;position: relative;}#sk-container-id-27 div.sk-item::before, #sk-container-id-27 div.sk-parallel-item::before {content: \"\";position: absolute;border-left: 1px solid gray;box-sizing: border-box;top: 0;bottom: 0;left: 50%;z-index: -1;}#sk-container-id-27 div.sk-parallel-item {display: flex;flex-direction: column;z-index: 1;position: relative;background-color: white;}#sk-container-id-27 div.sk-parallel-item:first-child::after {align-self: flex-end;width: 50%;}#sk-container-id-27 div.sk-parallel-item:last-child::after {align-self: flex-start;width: 50%;}#sk-container-id-27 div.sk-parallel-item:only-child::after {width: 0;}#sk-container-id-27 div.sk-dashed-wrapped {border: 1px dashed gray;margin: 0 0.4em 0.5em 0.4em;box-sizing: border-box;padding-bottom: 0.4em;background-color: white;}#sk-container-id-27 div.sk-label label {font-family: monospace;font-weight: bold;display: inline-block;line-height: 1.2em;}#sk-container-id-27 div.sk-label-container {text-align: center;}#sk-container-id-27 div.sk-container {/* jupyter's `normalize.less` sets `[hidden] { display: none; }` but bootstrap.min.css set `[hidden] { display: none !important; }` so we also need the `!important` here to be able to override the default hidden behavior on the sphinx rendered scikit-learn.org. See: https://github.com/scikit-learn/scikit-learn/issues/21755 */display: inline-block !important;position: relative;}#sk-container-id-27 div.sk-text-repr-fallback {display: none;}</style><div id=\"sk-container-id-27\" class=\"sk-top-container\"><div class=\"sk-text-repr-fallback\"><pre>LogisticRegression(random_state=42)</pre><b>In a Jupyter environment, please rerun this cell to show the HTML representation or trust the notebook. <br />On GitHub, the HTML representation is unable to render, please try loading this page with nbviewer.org.</b></div><div class=\"sk-container\" hidden><div class=\"sk-item\"><div class=\"sk-estimator sk-toggleable\"><input class=\"sk-toggleable__control sk-hidden--visually\" id=\"sk-estimator-id-27\" type=\"checkbox\" checked><label for=\"sk-estimator-id-27\" class=\"sk-toggleable__label sk-toggleable__label-arrow\">LogisticRegression</label><div class=\"sk-toggleable__content\"><pre>LogisticRegression(random_state=42)</pre></div></div></div></div></div>"
      ],
      "text/plain": [
       "LogisticRegression(random_state=42)"
      ]
     },
     "execution_count": 527,
     "metadata": {},
     "output_type": "execute_result"
    }
   ],
   "source": [
    "lr_model.fit(x_train_scaled, y_train)"
   ]
  },
  {
   "cell_type": "markdown",
   "id": "d4020480",
   "metadata": {},
   "source": [
    "Step 3: Make Predictions on the Scaled Test Data"
   ]
  },
  {
   "cell_type": "code",
   "execution_count": 528,
   "id": "a18f3761",
   "metadata": {},
   "outputs": [],
   "source": [
    "# (for evaluation) \n",
    "y_pred_train_lr = lr_model.predict(x_train_scaled)\n",
    "\n",
    "# (for submission) \n",
    "y_pred_test_lr = lr_model.predict(x_test_scaled)"
   ]
  },
  {
   "cell_type": "markdown",
   "id": "89e47dde",
   "metadata": {},
   "source": [
    "Step 4: Evaluate the Logistic Regression on the training data"
   ]
  },
  {
   "cell_type": "code",
   "execution_count": 529,
   "id": "ad193887",
   "metadata": {},
   "outputs": [
    {
     "name": "stdout",
     "output_type": "stream",
     "text": [
      "Logistic Regression - Training Accuracy: 0.9619047619047619\n",
      "Confusion Matrix (Train - Logistic Regression):\n",
      " [[31  0  0]\n",
      " [ 0 34  3]\n",
      " [ 0  1 36]]\n",
      "Classification Report (Train - Logistic Regression):\n",
      "               precision    recall  f1-score   support\n",
      "\n",
      "           0       1.00      1.00      1.00        31\n",
      "           1       0.97      0.92      0.94        37\n",
      "           2       0.92      0.97      0.95        37\n",
      "\n",
      "    accuracy                           0.96       105\n",
      "   macro avg       0.96      0.96      0.96       105\n",
      "weighted avg       0.96      0.96      0.96       105\n",
      "\n"
     ]
    }
   ],
   "source": [
    "print(\"Logistic Regression - Training Accuracy:\", accuracy_score(y_train, y_pred_train_lr))\n",
    "print(\"Confusion Matrix (Train - Logistic Regression):\\n\", confusion_matrix(y_train, y_pred_train_lr))\n",
    "print(\"Classification Report (Train - Logistic Regression):\\n\", classification_report(y_train, y_pred_train_lr))"
   ]
  },
  {
   "cell_type": "markdown",
   "id": "86a79b70",
   "metadata": {},
   "source": [
    "### 4.2 Random Forest"
   ]
  },
  {
   "cell_type": "markdown",
   "id": "b9939f95",
   "metadata": {},
   "source": [
    "Step 1: Import Random Forest and train the model"
   ]
  },
  {
   "cell_type": "code",
   "execution_count": 530,
   "id": "43bacb45",
   "metadata": {},
   "outputs": [],
   "source": [
    "from sklearn.ensemble import RandomForestClassifier\n",
    "rf_model = RandomForestClassifier(n_estimators=100, random_state=42)"
   ]
  },
  {
   "cell_type": "markdown",
   "id": "0b225e33",
   "metadata": {},
   "source": [
    "Step 2: Fit the model on the scaled training data"
   ]
  },
  {
   "cell_type": "code",
   "execution_count": 531,
   "id": "2cd6cd6c",
   "metadata": {
    "scrolled": true
   },
   "outputs": [
    {
     "data": {
      "text/html": [
       "<style>#sk-container-id-28 {color: black;}#sk-container-id-28 pre{padding: 0;}#sk-container-id-28 div.sk-toggleable {background-color: white;}#sk-container-id-28 label.sk-toggleable__label {cursor: pointer;display: block;width: 100%;margin-bottom: 0;padding: 0.3em;box-sizing: border-box;text-align: center;}#sk-container-id-28 label.sk-toggleable__label-arrow:before {content: \"▸\";float: left;margin-right: 0.25em;color: #696969;}#sk-container-id-28 label.sk-toggleable__label-arrow:hover:before {color: black;}#sk-container-id-28 div.sk-estimator:hover label.sk-toggleable__label-arrow:before {color: black;}#sk-container-id-28 div.sk-toggleable__content {max-height: 0;max-width: 0;overflow: hidden;text-align: left;background-color: #f0f8ff;}#sk-container-id-28 div.sk-toggleable__content pre {margin: 0.2em;color: black;border-radius: 0.25em;background-color: #f0f8ff;}#sk-container-id-28 input.sk-toggleable__control:checked~div.sk-toggleable__content {max-height: 200px;max-width: 100%;overflow: auto;}#sk-container-id-28 input.sk-toggleable__control:checked~label.sk-toggleable__label-arrow:before {content: \"▾\";}#sk-container-id-28 div.sk-estimator input.sk-toggleable__control:checked~label.sk-toggleable__label {background-color: #d4ebff;}#sk-container-id-28 div.sk-label input.sk-toggleable__control:checked~label.sk-toggleable__label {background-color: #d4ebff;}#sk-container-id-28 input.sk-hidden--visually {border: 0;clip: rect(1px 1px 1px 1px);clip: rect(1px, 1px, 1px, 1px);height: 1px;margin: -1px;overflow: hidden;padding: 0;position: absolute;width: 1px;}#sk-container-id-28 div.sk-estimator {font-family: monospace;background-color: #f0f8ff;border: 1px dotted black;border-radius: 0.25em;box-sizing: border-box;margin-bottom: 0.5em;}#sk-container-id-28 div.sk-estimator:hover {background-color: #d4ebff;}#sk-container-id-28 div.sk-parallel-item::after {content: \"\";width: 100%;border-bottom: 1px solid gray;flex-grow: 1;}#sk-container-id-28 div.sk-label:hover label.sk-toggleable__label {background-color: #d4ebff;}#sk-container-id-28 div.sk-serial::before {content: \"\";position: absolute;border-left: 1px solid gray;box-sizing: border-box;top: 0;bottom: 0;left: 50%;z-index: 0;}#sk-container-id-28 div.sk-serial {display: flex;flex-direction: column;align-items: center;background-color: white;padding-right: 0.2em;padding-left: 0.2em;position: relative;}#sk-container-id-28 div.sk-item {position: relative;z-index: 1;}#sk-container-id-28 div.sk-parallel {display: flex;align-items: stretch;justify-content: center;background-color: white;position: relative;}#sk-container-id-28 div.sk-item::before, #sk-container-id-28 div.sk-parallel-item::before {content: \"\";position: absolute;border-left: 1px solid gray;box-sizing: border-box;top: 0;bottom: 0;left: 50%;z-index: -1;}#sk-container-id-28 div.sk-parallel-item {display: flex;flex-direction: column;z-index: 1;position: relative;background-color: white;}#sk-container-id-28 div.sk-parallel-item:first-child::after {align-self: flex-end;width: 50%;}#sk-container-id-28 div.sk-parallel-item:last-child::after {align-self: flex-start;width: 50%;}#sk-container-id-28 div.sk-parallel-item:only-child::after {width: 0;}#sk-container-id-28 div.sk-dashed-wrapped {border: 1px dashed gray;margin: 0 0.4em 0.5em 0.4em;box-sizing: border-box;padding-bottom: 0.4em;background-color: white;}#sk-container-id-28 div.sk-label label {font-family: monospace;font-weight: bold;display: inline-block;line-height: 1.2em;}#sk-container-id-28 div.sk-label-container {text-align: center;}#sk-container-id-28 div.sk-container {/* jupyter's `normalize.less` sets `[hidden] { display: none; }` but bootstrap.min.css set `[hidden] { display: none !important; }` so we also need the `!important` here to be able to override the default hidden behavior on the sphinx rendered scikit-learn.org. See: https://github.com/scikit-learn/scikit-learn/issues/21755 */display: inline-block !important;position: relative;}#sk-container-id-28 div.sk-text-repr-fallback {display: none;}</style><div id=\"sk-container-id-28\" class=\"sk-top-container\"><div class=\"sk-text-repr-fallback\"><pre>RandomForestClassifier(random_state=42)</pre><b>In a Jupyter environment, please rerun this cell to show the HTML representation or trust the notebook. <br />On GitHub, the HTML representation is unable to render, please try loading this page with nbviewer.org.</b></div><div class=\"sk-container\" hidden><div class=\"sk-item\"><div class=\"sk-estimator sk-toggleable\"><input class=\"sk-toggleable__control sk-hidden--visually\" id=\"sk-estimator-id-28\" type=\"checkbox\" checked><label for=\"sk-estimator-id-28\" class=\"sk-toggleable__label sk-toggleable__label-arrow\">RandomForestClassifier</label><div class=\"sk-toggleable__content\"><pre>RandomForestClassifier(random_state=42)</pre></div></div></div></div></div>"
      ],
      "text/plain": [
       "RandomForestClassifier(random_state=42)"
      ]
     },
     "execution_count": 531,
     "metadata": {},
     "output_type": "execute_result"
    }
   ],
   "source": [
    "rf_model.fit(x_train_scaled, y_train)"
   ]
  },
  {
   "cell_type": "markdown",
   "id": "35bea72d",
   "metadata": {},
   "source": [
    "Step 3: Make Predictions Using Random Forest"
   ]
  },
  {
   "cell_type": "code",
   "execution_count": 532,
   "id": "01e0d452",
   "metadata": {},
   "outputs": [],
   "source": [
    "# for evaluation) \n",
    "y_pred_train_rf = rf_model.predict(x_train_scaled)\n",
    "\n",
    "# (for submission)\n",
    "y_pred_test_rf = rf_model.predict(x_test_scaled)"
   ]
  },
  {
   "cell_type": "markdown",
   "id": "e4c2ecd4",
   "metadata": {},
   "source": [
    "Step 4: Evaluate the Random Forest on the training data"
   ]
  },
  {
   "cell_type": "code",
   "execution_count": 533,
   "id": "ff0dae17",
   "metadata": {},
   "outputs": [
    {
     "name": "stdout",
     "output_type": "stream",
     "text": [
      "Random Forest - Training Accuracy: 1.0\n",
      "Confusion Matrix (Train):\n",
      " [[31  0  0]\n",
      " [ 0 37  0]\n",
      " [ 0  0 37]]\n",
      "Classification Report (Train):\n",
      "               precision    recall  f1-score   support\n",
      "\n",
      "           0       1.00      1.00      1.00        31\n",
      "           1       1.00      1.00      1.00        37\n",
      "           2       1.00      1.00      1.00        37\n",
      "\n",
      "    accuracy                           1.00       105\n",
      "   macro avg       1.00      1.00      1.00       105\n",
      "weighted avg       1.00      1.00      1.00       105\n",
      "\n"
     ]
    }
   ],
   "source": [
    "print(\"Random Forest - Training Accuracy:\", accuracy_score(y_train, y_pred_train_rf))\n",
    "print(\"Confusion Matrix (Train):\\n\", confusion_matrix(y_train, y_pred_train_rf))\n",
    "print(\"Classification Report (Train):\\n\", classification_report(y_train, y_pred_train_rf))"
   ]
  },
  {
   "cell_type": "markdown",
   "id": "58f9cc01",
   "metadata": {},
   "source": [
    "### 4.3 Decision Tree"
   ]
  },
  {
   "cell_type": "markdown",
   "id": "71d84143",
   "metadata": {},
   "source": [
    "Step 1: Import Decision Tree and train the model"
   ]
  },
  {
   "cell_type": "code",
   "execution_count": 534,
   "id": "7fbe6f1b",
   "metadata": {},
   "outputs": [],
   "source": [
    "from sklearn.tree import DecisionTreeClassifier\n",
    "dt_model = DecisionTreeClassifier(random_state=42)"
   ]
  },
  {
   "cell_type": "markdown",
   "id": "256dd42c",
   "metadata": {},
   "source": [
    "Step 2: Fit the model on the scaled training data"
   ]
  },
  {
   "cell_type": "code",
   "execution_count": 535,
   "id": "e4454f7f",
   "metadata": {},
   "outputs": [
    {
     "data": {
      "text/html": [
       "<style>#sk-container-id-29 {color: black;}#sk-container-id-29 pre{padding: 0;}#sk-container-id-29 div.sk-toggleable {background-color: white;}#sk-container-id-29 label.sk-toggleable__label {cursor: pointer;display: block;width: 100%;margin-bottom: 0;padding: 0.3em;box-sizing: border-box;text-align: center;}#sk-container-id-29 label.sk-toggleable__label-arrow:before {content: \"▸\";float: left;margin-right: 0.25em;color: #696969;}#sk-container-id-29 label.sk-toggleable__label-arrow:hover:before {color: black;}#sk-container-id-29 div.sk-estimator:hover label.sk-toggleable__label-arrow:before {color: black;}#sk-container-id-29 div.sk-toggleable__content {max-height: 0;max-width: 0;overflow: hidden;text-align: left;background-color: #f0f8ff;}#sk-container-id-29 div.sk-toggleable__content pre {margin: 0.2em;color: black;border-radius: 0.25em;background-color: #f0f8ff;}#sk-container-id-29 input.sk-toggleable__control:checked~div.sk-toggleable__content {max-height: 200px;max-width: 100%;overflow: auto;}#sk-container-id-29 input.sk-toggleable__control:checked~label.sk-toggleable__label-arrow:before {content: \"▾\";}#sk-container-id-29 div.sk-estimator input.sk-toggleable__control:checked~label.sk-toggleable__label {background-color: #d4ebff;}#sk-container-id-29 div.sk-label input.sk-toggleable__control:checked~label.sk-toggleable__label {background-color: #d4ebff;}#sk-container-id-29 input.sk-hidden--visually {border: 0;clip: rect(1px 1px 1px 1px);clip: rect(1px, 1px, 1px, 1px);height: 1px;margin: -1px;overflow: hidden;padding: 0;position: absolute;width: 1px;}#sk-container-id-29 div.sk-estimator {font-family: monospace;background-color: #f0f8ff;border: 1px dotted black;border-radius: 0.25em;box-sizing: border-box;margin-bottom: 0.5em;}#sk-container-id-29 div.sk-estimator:hover {background-color: #d4ebff;}#sk-container-id-29 div.sk-parallel-item::after {content: \"\";width: 100%;border-bottom: 1px solid gray;flex-grow: 1;}#sk-container-id-29 div.sk-label:hover label.sk-toggleable__label {background-color: #d4ebff;}#sk-container-id-29 div.sk-serial::before {content: \"\";position: absolute;border-left: 1px solid gray;box-sizing: border-box;top: 0;bottom: 0;left: 50%;z-index: 0;}#sk-container-id-29 div.sk-serial {display: flex;flex-direction: column;align-items: center;background-color: white;padding-right: 0.2em;padding-left: 0.2em;position: relative;}#sk-container-id-29 div.sk-item {position: relative;z-index: 1;}#sk-container-id-29 div.sk-parallel {display: flex;align-items: stretch;justify-content: center;background-color: white;position: relative;}#sk-container-id-29 div.sk-item::before, #sk-container-id-29 div.sk-parallel-item::before {content: \"\";position: absolute;border-left: 1px solid gray;box-sizing: border-box;top: 0;bottom: 0;left: 50%;z-index: -1;}#sk-container-id-29 div.sk-parallel-item {display: flex;flex-direction: column;z-index: 1;position: relative;background-color: white;}#sk-container-id-29 div.sk-parallel-item:first-child::after {align-self: flex-end;width: 50%;}#sk-container-id-29 div.sk-parallel-item:last-child::after {align-self: flex-start;width: 50%;}#sk-container-id-29 div.sk-parallel-item:only-child::after {width: 0;}#sk-container-id-29 div.sk-dashed-wrapped {border: 1px dashed gray;margin: 0 0.4em 0.5em 0.4em;box-sizing: border-box;padding-bottom: 0.4em;background-color: white;}#sk-container-id-29 div.sk-label label {font-family: monospace;font-weight: bold;display: inline-block;line-height: 1.2em;}#sk-container-id-29 div.sk-label-container {text-align: center;}#sk-container-id-29 div.sk-container {/* jupyter's `normalize.less` sets `[hidden] { display: none; }` but bootstrap.min.css set `[hidden] { display: none !important; }` so we also need the `!important` here to be able to override the default hidden behavior on the sphinx rendered scikit-learn.org. See: https://github.com/scikit-learn/scikit-learn/issues/21755 */display: inline-block !important;position: relative;}#sk-container-id-29 div.sk-text-repr-fallback {display: none;}</style><div id=\"sk-container-id-29\" class=\"sk-top-container\"><div class=\"sk-text-repr-fallback\"><pre>DecisionTreeClassifier(random_state=42)</pre><b>In a Jupyter environment, please rerun this cell to show the HTML representation or trust the notebook. <br />On GitHub, the HTML representation is unable to render, please try loading this page with nbviewer.org.</b></div><div class=\"sk-container\" hidden><div class=\"sk-item\"><div class=\"sk-estimator sk-toggleable\"><input class=\"sk-toggleable__control sk-hidden--visually\" id=\"sk-estimator-id-29\" type=\"checkbox\" checked><label for=\"sk-estimator-id-29\" class=\"sk-toggleable__label sk-toggleable__label-arrow\">DecisionTreeClassifier</label><div class=\"sk-toggleable__content\"><pre>DecisionTreeClassifier(random_state=42)</pre></div></div></div></div></div>"
      ],
      "text/plain": [
       "DecisionTreeClassifier(random_state=42)"
      ]
     },
     "execution_count": 535,
     "metadata": {},
     "output_type": "execute_result"
    }
   ],
   "source": [
    "dt_model.fit(x_train_scaled, y_train)"
   ]
  },
  {
   "cell_type": "markdown",
   "id": "5b366cae",
   "metadata": {},
   "source": [
    "Step 3: Make predictions using Decision Tree"
   ]
  },
  {
   "cell_type": "code",
   "execution_count": 536,
   "id": "0c18619a",
   "metadata": {},
   "outputs": [],
   "source": [
    "y_pred_train_dt = dt_model.predict(x_train_scaled)\n",
    "y_pred_test_dt = dt_model.predict(x_test_scaled)"
   ]
  },
  {
   "cell_type": "markdown",
   "id": "5c08a983",
   "metadata": {},
   "source": [
    "Step 4: Evaluate the Decision Tree on the training data"
   ]
  },
  {
   "cell_type": "code",
   "execution_count": 537,
   "id": "3784b127",
   "metadata": {},
   "outputs": [
    {
     "name": "stdout",
     "output_type": "stream",
     "text": [
      "Decision Tree - Training Accuracy: 1.0\n",
      "Confusion Matrix (Train - Decision Tree):\n",
      " [[31  0  0]\n",
      " [ 0 37  0]\n",
      " [ 0  0 37]]\n",
      "Classification Report (Train - Decision Tree):\n",
      "               precision    recall  f1-score   support\n",
      "\n",
      "           0       1.00      1.00      1.00        31\n",
      "           1       1.00      1.00      1.00        37\n",
      "           2       1.00      1.00      1.00        37\n",
      "\n",
      "    accuracy                           1.00       105\n",
      "   macro avg       1.00      1.00      1.00       105\n",
      "weighted avg       1.00      1.00      1.00       105\n",
      "\n"
     ]
    }
   ],
   "source": [
    "# Evaluate on training data (Decision Tree)\n",
    "print(\"Decision Tree - Training Accuracy:\", accuracy_score(y_train, y_pred_train_dt))\n",
    "print(\"Confusion Matrix (Train - Decision Tree):\\n\", confusion_matrix(y_train, y_pred_train_dt))\n",
    "print(\"Classification Report (Train - Decision Tree):\\n\", classification_report(y_train, y_pred_train_dt))\n"
   ]
  },
  {
   "cell_type": "markdown",
   "id": "0a4940fb",
   "metadata": {},
   "source": [
    "### 4.4 Support Vector Machine (SVM)"
   ]
  },
  {
   "cell_type": "markdown",
   "id": "85b1eea8",
   "metadata": {},
   "source": [
    "Step 1: Import Support Vector Machine and train the model"
   ]
  },
  {
   "cell_type": "code",
   "execution_count": 538,
   "id": "ccf275fa",
   "metadata": {},
   "outputs": [],
   "source": [
    "from sklearn.svm import SVC\n",
    "svm_model = SVC(random_state=42)"
   ]
  },
  {
   "cell_type": "markdown",
   "id": "9dcdb885",
   "metadata": {},
   "source": [
    "Step 2: Fit the model on the scaled training data"
   ]
  },
  {
   "cell_type": "code",
   "execution_count": 539,
   "id": "f3a07cf9",
   "metadata": {},
   "outputs": [
    {
     "data": {
      "text/html": [
       "<style>#sk-container-id-30 {color: black;}#sk-container-id-30 pre{padding: 0;}#sk-container-id-30 div.sk-toggleable {background-color: white;}#sk-container-id-30 label.sk-toggleable__label {cursor: pointer;display: block;width: 100%;margin-bottom: 0;padding: 0.3em;box-sizing: border-box;text-align: center;}#sk-container-id-30 label.sk-toggleable__label-arrow:before {content: \"▸\";float: left;margin-right: 0.25em;color: #696969;}#sk-container-id-30 label.sk-toggleable__label-arrow:hover:before {color: black;}#sk-container-id-30 div.sk-estimator:hover label.sk-toggleable__label-arrow:before {color: black;}#sk-container-id-30 div.sk-toggleable__content {max-height: 0;max-width: 0;overflow: hidden;text-align: left;background-color: #f0f8ff;}#sk-container-id-30 div.sk-toggleable__content pre {margin: 0.2em;color: black;border-radius: 0.25em;background-color: #f0f8ff;}#sk-container-id-30 input.sk-toggleable__control:checked~div.sk-toggleable__content {max-height: 200px;max-width: 100%;overflow: auto;}#sk-container-id-30 input.sk-toggleable__control:checked~label.sk-toggleable__label-arrow:before {content: \"▾\";}#sk-container-id-30 div.sk-estimator input.sk-toggleable__control:checked~label.sk-toggleable__label {background-color: #d4ebff;}#sk-container-id-30 div.sk-label input.sk-toggleable__control:checked~label.sk-toggleable__label {background-color: #d4ebff;}#sk-container-id-30 input.sk-hidden--visually {border: 0;clip: rect(1px 1px 1px 1px);clip: rect(1px, 1px, 1px, 1px);height: 1px;margin: -1px;overflow: hidden;padding: 0;position: absolute;width: 1px;}#sk-container-id-30 div.sk-estimator {font-family: monospace;background-color: #f0f8ff;border: 1px dotted black;border-radius: 0.25em;box-sizing: border-box;margin-bottom: 0.5em;}#sk-container-id-30 div.sk-estimator:hover {background-color: #d4ebff;}#sk-container-id-30 div.sk-parallel-item::after {content: \"\";width: 100%;border-bottom: 1px solid gray;flex-grow: 1;}#sk-container-id-30 div.sk-label:hover label.sk-toggleable__label {background-color: #d4ebff;}#sk-container-id-30 div.sk-serial::before {content: \"\";position: absolute;border-left: 1px solid gray;box-sizing: border-box;top: 0;bottom: 0;left: 50%;z-index: 0;}#sk-container-id-30 div.sk-serial {display: flex;flex-direction: column;align-items: center;background-color: white;padding-right: 0.2em;padding-left: 0.2em;position: relative;}#sk-container-id-30 div.sk-item {position: relative;z-index: 1;}#sk-container-id-30 div.sk-parallel {display: flex;align-items: stretch;justify-content: center;background-color: white;position: relative;}#sk-container-id-30 div.sk-item::before, #sk-container-id-30 div.sk-parallel-item::before {content: \"\";position: absolute;border-left: 1px solid gray;box-sizing: border-box;top: 0;bottom: 0;left: 50%;z-index: -1;}#sk-container-id-30 div.sk-parallel-item {display: flex;flex-direction: column;z-index: 1;position: relative;background-color: white;}#sk-container-id-30 div.sk-parallel-item:first-child::after {align-self: flex-end;width: 50%;}#sk-container-id-30 div.sk-parallel-item:last-child::after {align-self: flex-start;width: 50%;}#sk-container-id-30 div.sk-parallel-item:only-child::after {width: 0;}#sk-container-id-30 div.sk-dashed-wrapped {border: 1px dashed gray;margin: 0 0.4em 0.5em 0.4em;box-sizing: border-box;padding-bottom: 0.4em;background-color: white;}#sk-container-id-30 div.sk-label label {font-family: monospace;font-weight: bold;display: inline-block;line-height: 1.2em;}#sk-container-id-30 div.sk-label-container {text-align: center;}#sk-container-id-30 div.sk-container {/* jupyter's `normalize.less` sets `[hidden] { display: none; }` but bootstrap.min.css set `[hidden] { display: none !important; }` so we also need the `!important` here to be able to override the default hidden behavior on the sphinx rendered scikit-learn.org. See: https://github.com/scikit-learn/scikit-learn/issues/21755 */display: inline-block !important;position: relative;}#sk-container-id-30 div.sk-text-repr-fallback {display: none;}</style><div id=\"sk-container-id-30\" class=\"sk-top-container\"><div class=\"sk-text-repr-fallback\"><pre>SVC(random_state=42)</pre><b>In a Jupyter environment, please rerun this cell to show the HTML representation or trust the notebook. <br />On GitHub, the HTML representation is unable to render, please try loading this page with nbviewer.org.</b></div><div class=\"sk-container\" hidden><div class=\"sk-item\"><div class=\"sk-estimator sk-toggleable\"><input class=\"sk-toggleable__control sk-hidden--visually\" id=\"sk-estimator-id-30\" type=\"checkbox\" checked><label for=\"sk-estimator-id-30\" class=\"sk-toggleable__label sk-toggleable__label-arrow\">SVC</label><div class=\"sk-toggleable__content\"><pre>SVC(random_state=42)</pre></div></div></div></div></div>"
      ],
      "text/plain": [
       "SVC(random_state=42)"
      ]
     },
     "execution_count": 539,
     "metadata": {},
     "output_type": "execute_result"
    }
   ],
   "source": [
    "svm_model.fit(x_train_scaled, y_train)"
   ]
  },
  {
   "cell_type": "markdown",
   "id": "784316a9",
   "metadata": {},
   "source": [
    "Step 3: Make predictions using Decision Tree"
   ]
  },
  {
   "cell_type": "code",
   "execution_count": 540,
   "id": "a9873ca5",
   "metadata": {},
   "outputs": [],
   "source": [
    "# (for evaluation)\n",
    "y_pred_train_svm = svm_model.predict(x_train_scaled)\n",
    "# (for submission)\n",
    "y_pred_test_svm = svm_model.predict(x_test_scaled)"
   ]
  },
  {
   "cell_type": "markdown",
   "id": "5400fcbf",
   "metadata": {},
   "source": [
    "Step 4: Evaluate the Support Vector Machine on the training data"
   ]
  },
  {
   "cell_type": "code",
   "execution_count": 541,
   "id": "bbac51dc",
   "metadata": {},
   "outputs": [
    {
     "name": "stdout",
     "output_type": "stream",
     "text": [
      "SVM - Training Accuracy: 0.9619047619047619\n",
      "Confusion Matrix (Train - SVM):\n",
      " [[31  0  0]\n",
      " [ 0 35  2]\n",
      " [ 0  2 35]]\n",
      "Classification Report (Train - SVM):\n",
      "               precision    recall  f1-score   support\n",
      "\n",
      "           0       1.00      1.00      1.00        31\n",
      "           1       0.95      0.95      0.95        37\n",
      "           2       0.95      0.95      0.95        37\n",
      "\n",
      "    accuracy                           0.96       105\n",
      "   macro avg       0.96      0.96      0.96       105\n",
      "weighted avg       0.96      0.96      0.96       105\n",
      "\n"
     ]
    }
   ],
   "source": [
    "# Evaluate on training data (SVM)\n",
    "print(\"SVM - Training Accuracy:\", accuracy_score(y_train, y_pred_train_svm))\n",
    "print(\"Confusion Matrix (Train - SVM):\\n\", confusion_matrix(y_train, y_pred_train_svm))\n",
    "print(\"Classification Report (Train - SVM):\\n\", classification_report(y_train, y_pred_train_svm))"
   ]
  },
  {
   "cell_type": "markdown",
   "id": "b16c6dc3",
   "metadata": {},
   "source": [
    "### 4.5 XGBoost (Xtreme Gradient Boosting) model"
   ]
  },
  {
   "cell_type": "markdown",
   "id": "c70d82f2",
   "metadata": {},
   "source": [
    "Step 1: Import XGBoost and train the model"
   ]
  },
  {
   "cell_type": "code",
   "execution_count": 542,
   "id": "5eddf242",
   "metadata": {},
   "outputs": [],
   "source": [
    "import xgboost as xgb\n",
    "xgb_model = xgb.XGBClassifier(use_label_encoder=False, eval_metric='mlogloss', random_state=42)"
   ]
  },
  {
   "cell_type": "markdown",
   "id": "498b2a98",
   "metadata": {},
   "source": [
    "Step 2: Fit the model on the scaled training data"
   ]
  },
  {
   "cell_type": "code",
   "execution_count": 543,
   "id": "a70f138e",
   "metadata": {},
   "outputs": [
    {
     "data": {
      "text/html": [
       "<style>#sk-container-id-31 {color: black;}#sk-container-id-31 pre{padding: 0;}#sk-container-id-31 div.sk-toggleable {background-color: white;}#sk-container-id-31 label.sk-toggleable__label {cursor: pointer;display: block;width: 100%;margin-bottom: 0;padding: 0.3em;box-sizing: border-box;text-align: center;}#sk-container-id-31 label.sk-toggleable__label-arrow:before {content: \"▸\";float: left;margin-right: 0.25em;color: #696969;}#sk-container-id-31 label.sk-toggleable__label-arrow:hover:before {color: black;}#sk-container-id-31 div.sk-estimator:hover label.sk-toggleable__label-arrow:before {color: black;}#sk-container-id-31 div.sk-toggleable__content {max-height: 0;max-width: 0;overflow: hidden;text-align: left;background-color: #f0f8ff;}#sk-container-id-31 div.sk-toggleable__content pre {margin: 0.2em;color: black;border-radius: 0.25em;background-color: #f0f8ff;}#sk-container-id-31 input.sk-toggleable__control:checked~div.sk-toggleable__content {max-height: 200px;max-width: 100%;overflow: auto;}#sk-container-id-31 input.sk-toggleable__control:checked~label.sk-toggleable__label-arrow:before {content: \"▾\";}#sk-container-id-31 div.sk-estimator input.sk-toggleable__control:checked~label.sk-toggleable__label {background-color: #d4ebff;}#sk-container-id-31 div.sk-label input.sk-toggleable__control:checked~label.sk-toggleable__label {background-color: #d4ebff;}#sk-container-id-31 input.sk-hidden--visually {border: 0;clip: rect(1px 1px 1px 1px);clip: rect(1px, 1px, 1px, 1px);height: 1px;margin: -1px;overflow: hidden;padding: 0;position: absolute;width: 1px;}#sk-container-id-31 div.sk-estimator {font-family: monospace;background-color: #f0f8ff;border: 1px dotted black;border-radius: 0.25em;box-sizing: border-box;margin-bottom: 0.5em;}#sk-container-id-31 div.sk-estimator:hover {background-color: #d4ebff;}#sk-container-id-31 div.sk-parallel-item::after {content: \"\";width: 100%;border-bottom: 1px solid gray;flex-grow: 1;}#sk-container-id-31 div.sk-label:hover label.sk-toggleable__label {background-color: #d4ebff;}#sk-container-id-31 div.sk-serial::before {content: \"\";position: absolute;border-left: 1px solid gray;box-sizing: border-box;top: 0;bottom: 0;left: 50%;z-index: 0;}#sk-container-id-31 div.sk-serial {display: flex;flex-direction: column;align-items: center;background-color: white;padding-right: 0.2em;padding-left: 0.2em;position: relative;}#sk-container-id-31 div.sk-item {position: relative;z-index: 1;}#sk-container-id-31 div.sk-parallel {display: flex;align-items: stretch;justify-content: center;background-color: white;position: relative;}#sk-container-id-31 div.sk-item::before, #sk-container-id-31 div.sk-parallel-item::before {content: \"\";position: absolute;border-left: 1px solid gray;box-sizing: border-box;top: 0;bottom: 0;left: 50%;z-index: -1;}#sk-container-id-31 div.sk-parallel-item {display: flex;flex-direction: column;z-index: 1;position: relative;background-color: white;}#sk-container-id-31 div.sk-parallel-item:first-child::after {align-self: flex-end;width: 50%;}#sk-container-id-31 div.sk-parallel-item:last-child::after {align-self: flex-start;width: 50%;}#sk-container-id-31 div.sk-parallel-item:only-child::after {width: 0;}#sk-container-id-31 div.sk-dashed-wrapped {border: 1px dashed gray;margin: 0 0.4em 0.5em 0.4em;box-sizing: border-box;padding-bottom: 0.4em;background-color: white;}#sk-container-id-31 div.sk-label label {font-family: monospace;font-weight: bold;display: inline-block;line-height: 1.2em;}#sk-container-id-31 div.sk-label-container {text-align: center;}#sk-container-id-31 div.sk-container {/* jupyter's `normalize.less` sets `[hidden] { display: none; }` but bootstrap.min.css set `[hidden] { display: none !important; }` so we also need the `!important` here to be able to override the default hidden behavior on the sphinx rendered scikit-learn.org. See: https://github.com/scikit-learn/scikit-learn/issues/21755 */display: inline-block !important;position: relative;}#sk-container-id-31 div.sk-text-repr-fallback {display: none;}</style><div id=\"sk-container-id-31\" class=\"sk-top-container\"><div class=\"sk-text-repr-fallback\"><pre>XGBClassifier(base_score=None, booster=None, callbacks=None,\n",
       "              colsample_bylevel=None, colsample_bynode=None,\n",
       "              colsample_bytree=None, device=None, early_stopping_rounds=None,\n",
       "              enable_categorical=False, eval_metric=&#x27;mlogloss&#x27;,\n",
       "              feature_types=None, gamma=None, grow_policy=None,\n",
       "              importance_type=None, interaction_constraints=None,\n",
       "              learning_rate=None, max_bin=None, max_cat_threshold=None,\n",
       "              max_cat_to_onehot=None, max_delta_step=None, max_depth=None,\n",
       "              max_leaves=None, min_child_weight=None, missing=nan,\n",
       "              monotone_constraints=None, multi_strategy=None, n_estimators=None,\n",
       "              n_jobs=None, num_parallel_tree=None, objective=&#x27;multi:softprob&#x27;, ...)</pre><b>In a Jupyter environment, please rerun this cell to show the HTML representation or trust the notebook. <br />On GitHub, the HTML representation is unable to render, please try loading this page with nbviewer.org.</b></div><div class=\"sk-container\" hidden><div class=\"sk-item\"><div class=\"sk-estimator sk-toggleable\"><input class=\"sk-toggleable__control sk-hidden--visually\" id=\"sk-estimator-id-31\" type=\"checkbox\" checked><label for=\"sk-estimator-id-31\" class=\"sk-toggleable__label sk-toggleable__label-arrow\">XGBClassifier</label><div class=\"sk-toggleable__content\"><pre>XGBClassifier(base_score=None, booster=None, callbacks=None,\n",
       "              colsample_bylevel=None, colsample_bynode=None,\n",
       "              colsample_bytree=None, device=None, early_stopping_rounds=None,\n",
       "              enable_categorical=False, eval_metric=&#x27;mlogloss&#x27;,\n",
       "              feature_types=None, gamma=None, grow_policy=None,\n",
       "              importance_type=None, interaction_constraints=None,\n",
       "              learning_rate=None, max_bin=None, max_cat_threshold=None,\n",
       "              max_cat_to_onehot=None, max_delta_step=None, max_depth=None,\n",
       "              max_leaves=None, min_child_weight=None, missing=nan,\n",
       "              monotone_constraints=None, multi_strategy=None, n_estimators=None,\n",
       "              n_jobs=None, num_parallel_tree=None, objective=&#x27;multi:softprob&#x27;, ...)</pre></div></div></div></div></div>"
      ],
      "text/plain": [
       "XGBClassifier(base_score=None, booster=None, callbacks=None,\n",
       "              colsample_bylevel=None, colsample_bynode=None,\n",
       "              colsample_bytree=None, device=None, early_stopping_rounds=None,\n",
       "              enable_categorical=False, eval_metric='mlogloss',\n",
       "              feature_types=None, gamma=None, grow_policy=None,\n",
       "              importance_type=None, interaction_constraints=None,\n",
       "              learning_rate=None, max_bin=None, max_cat_threshold=None,\n",
       "              max_cat_to_onehot=None, max_delta_step=None, max_depth=None,\n",
       "              max_leaves=None, min_child_weight=None, missing=nan,\n",
       "              monotone_constraints=None, multi_strategy=None, n_estimators=None,\n",
       "              n_jobs=None, num_parallel_tree=None, objective='multi:softprob', ...)"
      ]
     },
     "execution_count": 543,
     "metadata": {},
     "output_type": "execute_result"
    }
   ],
   "source": [
    "xgb_model.fit(x_train_scaled, y_train)"
   ]
  },
  {
   "cell_type": "markdown",
   "id": "f0f4f03e",
   "metadata": {},
   "source": [
    "Step 3: Make predictions using XGBoost"
   ]
  },
  {
   "cell_type": "code",
   "execution_count": 544,
   "id": "939244d1",
   "metadata": {},
   "outputs": [],
   "source": [
    "# (for evaluation)\n",
    "y_pred_train_xgb = xgb_model.predict(x_train_scaled)\n",
    "\n",
    "# (for submission) \n",
    "y_pred_test_xgb = xgb_model.predict(x_test_scaled)"
   ]
  },
  {
   "cell_type": "markdown",
   "id": "93b9d6ca",
   "metadata": {},
   "source": [
    "Step 4: Evaluate the XGBoost model on the training data"
   ]
  },
  {
   "cell_type": "code",
   "execution_count": 545,
   "id": "086ea216",
   "metadata": {},
   "outputs": [
    {
     "name": "stdout",
     "output_type": "stream",
     "text": [
      "XGBoost - Training Accuracy: 1.0\n",
      "Confusion Matrix (Train - XGBoost):\n",
      " [[31  0  0]\n",
      " [ 0 37  0]\n",
      " [ 0  0 37]]\n",
      "Classification Report (Train - XGBoost):\n",
      "               precision    recall  f1-score   support\n",
      "\n",
      "           0       1.00      1.00      1.00        31\n",
      "           1       1.00      1.00      1.00        37\n",
      "           2       1.00      1.00      1.00        37\n",
      "\n",
      "    accuracy                           1.00       105\n",
      "   macro avg       1.00      1.00      1.00       105\n",
      "weighted avg       1.00      1.00      1.00       105\n",
      "\n"
     ]
    }
   ],
   "source": [
    "# Evaluate on training data (XGBoost)\n",
    "print(\"XGBoost - Training Accuracy:\", accuracy_score(y_train, y_pred_train_xgb))\n",
    "print(\"Confusion Matrix (Train - XGBoost):\\n\", confusion_matrix(y_train, y_pred_train_xgb))\n",
    "print(\"Classification Report (Train - XGBoost):\\n\", classification_report(y_train, y_pred_train_xgb))\n"
   ]
  },
  {
   "cell_type": "markdown",
   "id": "731a5e94",
   "metadata": {},
   "source": [
    "### 4.6 Naive Bayes "
   ]
  },
  {
   "cell_type": "markdown",
   "id": "859bff0b",
   "metadata": {},
   "source": [
    "Step 1: Import Naive Bayes and train the model"
   ]
  },
  {
   "cell_type": "code",
   "execution_count": 546,
   "id": "81abbf2e",
   "metadata": {},
   "outputs": [],
   "source": [
    "from sklearn.naive_bayes import GaussianNB\n",
    "nb_model = GaussianNB()"
   ]
  },
  {
   "cell_type": "markdown",
   "id": "4f4aea58",
   "metadata": {},
   "source": [
    "Step 2: Fit the model on the scaled training data"
   ]
  },
  {
   "cell_type": "code",
   "execution_count": 547,
   "id": "1568f609",
   "metadata": {},
   "outputs": [
    {
     "data": {
      "text/html": [
       "<style>#sk-container-id-32 {color: black;}#sk-container-id-32 pre{padding: 0;}#sk-container-id-32 div.sk-toggleable {background-color: white;}#sk-container-id-32 label.sk-toggleable__label {cursor: pointer;display: block;width: 100%;margin-bottom: 0;padding: 0.3em;box-sizing: border-box;text-align: center;}#sk-container-id-32 label.sk-toggleable__label-arrow:before {content: \"▸\";float: left;margin-right: 0.25em;color: #696969;}#sk-container-id-32 label.sk-toggleable__label-arrow:hover:before {color: black;}#sk-container-id-32 div.sk-estimator:hover label.sk-toggleable__label-arrow:before {color: black;}#sk-container-id-32 div.sk-toggleable__content {max-height: 0;max-width: 0;overflow: hidden;text-align: left;background-color: #f0f8ff;}#sk-container-id-32 div.sk-toggleable__content pre {margin: 0.2em;color: black;border-radius: 0.25em;background-color: #f0f8ff;}#sk-container-id-32 input.sk-toggleable__control:checked~div.sk-toggleable__content {max-height: 200px;max-width: 100%;overflow: auto;}#sk-container-id-32 input.sk-toggleable__control:checked~label.sk-toggleable__label-arrow:before {content: \"▾\";}#sk-container-id-32 div.sk-estimator input.sk-toggleable__control:checked~label.sk-toggleable__label {background-color: #d4ebff;}#sk-container-id-32 div.sk-label input.sk-toggleable__control:checked~label.sk-toggleable__label {background-color: #d4ebff;}#sk-container-id-32 input.sk-hidden--visually {border: 0;clip: rect(1px 1px 1px 1px);clip: rect(1px, 1px, 1px, 1px);height: 1px;margin: -1px;overflow: hidden;padding: 0;position: absolute;width: 1px;}#sk-container-id-32 div.sk-estimator {font-family: monospace;background-color: #f0f8ff;border: 1px dotted black;border-radius: 0.25em;box-sizing: border-box;margin-bottom: 0.5em;}#sk-container-id-32 div.sk-estimator:hover {background-color: #d4ebff;}#sk-container-id-32 div.sk-parallel-item::after {content: \"\";width: 100%;border-bottom: 1px solid gray;flex-grow: 1;}#sk-container-id-32 div.sk-label:hover label.sk-toggleable__label {background-color: #d4ebff;}#sk-container-id-32 div.sk-serial::before {content: \"\";position: absolute;border-left: 1px solid gray;box-sizing: border-box;top: 0;bottom: 0;left: 50%;z-index: 0;}#sk-container-id-32 div.sk-serial {display: flex;flex-direction: column;align-items: center;background-color: white;padding-right: 0.2em;padding-left: 0.2em;position: relative;}#sk-container-id-32 div.sk-item {position: relative;z-index: 1;}#sk-container-id-32 div.sk-parallel {display: flex;align-items: stretch;justify-content: center;background-color: white;position: relative;}#sk-container-id-32 div.sk-item::before, #sk-container-id-32 div.sk-parallel-item::before {content: \"\";position: absolute;border-left: 1px solid gray;box-sizing: border-box;top: 0;bottom: 0;left: 50%;z-index: -1;}#sk-container-id-32 div.sk-parallel-item {display: flex;flex-direction: column;z-index: 1;position: relative;background-color: white;}#sk-container-id-32 div.sk-parallel-item:first-child::after {align-self: flex-end;width: 50%;}#sk-container-id-32 div.sk-parallel-item:last-child::after {align-self: flex-start;width: 50%;}#sk-container-id-32 div.sk-parallel-item:only-child::after {width: 0;}#sk-container-id-32 div.sk-dashed-wrapped {border: 1px dashed gray;margin: 0 0.4em 0.5em 0.4em;box-sizing: border-box;padding-bottom: 0.4em;background-color: white;}#sk-container-id-32 div.sk-label label {font-family: monospace;font-weight: bold;display: inline-block;line-height: 1.2em;}#sk-container-id-32 div.sk-label-container {text-align: center;}#sk-container-id-32 div.sk-container {/* jupyter's `normalize.less` sets `[hidden] { display: none; }` but bootstrap.min.css set `[hidden] { display: none !important; }` so we also need the `!important` here to be able to override the default hidden behavior on the sphinx rendered scikit-learn.org. See: https://github.com/scikit-learn/scikit-learn/issues/21755 */display: inline-block !important;position: relative;}#sk-container-id-32 div.sk-text-repr-fallback {display: none;}</style><div id=\"sk-container-id-32\" class=\"sk-top-container\"><div class=\"sk-text-repr-fallback\"><pre>GaussianNB()</pre><b>In a Jupyter environment, please rerun this cell to show the HTML representation or trust the notebook. <br />On GitHub, the HTML representation is unable to render, please try loading this page with nbviewer.org.</b></div><div class=\"sk-container\" hidden><div class=\"sk-item\"><div class=\"sk-estimator sk-toggleable\"><input class=\"sk-toggleable__control sk-hidden--visually\" id=\"sk-estimator-id-32\" type=\"checkbox\" checked><label for=\"sk-estimator-id-32\" class=\"sk-toggleable__label sk-toggleable__label-arrow\">GaussianNB</label><div class=\"sk-toggleable__content\"><pre>GaussianNB()</pre></div></div></div></div></div>"
      ],
      "text/plain": [
       "GaussianNB()"
      ]
     },
     "execution_count": 547,
     "metadata": {},
     "output_type": "execute_result"
    }
   ],
   "source": [
    "nb_model.fit(x_train_scaled, y_train)"
   ]
  },
  {
   "cell_type": "markdown",
   "id": "0d6af754",
   "metadata": {},
   "source": [
    "Step 3: Make predictions using Naive Bayes"
   ]
  },
  {
   "cell_type": "code",
   "execution_count": 548,
   "id": "414307b6",
   "metadata": {},
   "outputs": [],
   "source": [
    "# (for evaluation) \n",
    "y_pred_train_nb = nb_model.predict(x_train_scaled)\n",
    "\n",
    "# (for submission) \n",
    "y_pred_test_nb = nb_model.predict(x_test_scaled)\n"
   ]
  },
  {
   "cell_type": "markdown",
   "id": "91f1d37c",
   "metadata": {},
   "source": [
    "Step 4: Evaluate the Naive Bayes model on the training data"
   ]
  },
  {
   "cell_type": "code",
   "execution_count": 549,
   "id": "99f43540",
   "metadata": {},
   "outputs": [
    {
     "name": "stdout",
     "output_type": "stream",
     "text": [
      "Naive Bayes - Training Accuracy: 0.9428571428571428\n",
      "Confusion Matrix (Train - Naive Bayes):\n",
      " [[31  0  0]\n",
      " [ 0 34  3]\n",
      " [ 0  3 34]]\n",
      "Classification Report (Train - Naive Bayes):\n",
      "               precision    recall  f1-score   support\n",
      "\n",
      "           0       1.00      1.00      1.00        31\n",
      "           1       0.92      0.92      0.92        37\n",
      "           2       0.92      0.92      0.92        37\n",
      "\n",
      "    accuracy                           0.94       105\n",
      "   macro avg       0.95      0.95      0.95       105\n",
      "weighted avg       0.94      0.94      0.94       105\n",
      "\n"
     ]
    }
   ],
   "source": [
    "# Evaluate on training data (Naive Bayes)\n",
    "print(\"Naive Bayes - Training Accuracy:\", accuracy_score(y_train, y_pred_train_nb))\n",
    "print(\"Confusion Matrix (Train - Naive Bayes):\\n\", confusion_matrix(y_train, y_pred_train_nb))\n",
    "print(\"Classification Report (Train - Naive Bayes):\\n\", classification_report(y_train, y_pred_train_nb))"
   ]
  },
  {
   "cell_type": "markdown",
   "id": "a5f7dc55",
   "metadata": {},
   "source": [
    "### 4.7 Neural Network model - Multi-Layer Perceptron (MLP) "
   ]
  },
  {
   "cell_type": "markdown",
   "id": "2e2a2a39",
   "metadata": {},
   "source": [
    "Step 1: Import MLP and train the model"
   ]
  },
  {
   "cell_type": "code",
   "execution_count": 550,
   "id": "131d75b8",
   "metadata": {},
   "outputs": [],
   "source": [
    "from sklearn.neural_network import MLPClassifier\n",
    "nn_model = MLPClassifier(hidden_layer_sizes=(100, ), max_iter=500, random_state=42)"
   ]
  },
  {
   "cell_type": "markdown",
   "id": "e8148b12",
   "metadata": {},
   "source": [
    "Step 2: Fit the model on the scaled training data"
   ]
  },
  {
   "cell_type": "code",
   "execution_count": 551,
   "id": "6d0f9059",
   "metadata": {},
   "outputs": [
    {
     "data": {
      "text/html": [
       "<style>#sk-container-id-33 {color: black;}#sk-container-id-33 pre{padding: 0;}#sk-container-id-33 div.sk-toggleable {background-color: white;}#sk-container-id-33 label.sk-toggleable__label {cursor: pointer;display: block;width: 100%;margin-bottom: 0;padding: 0.3em;box-sizing: border-box;text-align: center;}#sk-container-id-33 label.sk-toggleable__label-arrow:before {content: \"▸\";float: left;margin-right: 0.25em;color: #696969;}#sk-container-id-33 label.sk-toggleable__label-arrow:hover:before {color: black;}#sk-container-id-33 div.sk-estimator:hover label.sk-toggleable__label-arrow:before {color: black;}#sk-container-id-33 div.sk-toggleable__content {max-height: 0;max-width: 0;overflow: hidden;text-align: left;background-color: #f0f8ff;}#sk-container-id-33 div.sk-toggleable__content pre {margin: 0.2em;color: black;border-radius: 0.25em;background-color: #f0f8ff;}#sk-container-id-33 input.sk-toggleable__control:checked~div.sk-toggleable__content {max-height: 200px;max-width: 100%;overflow: auto;}#sk-container-id-33 input.sk-toggleable__control:checked~label.sk-toggleable__label-arrow:before {content: \"▾\";}#sk-container-id-33 div.sk-estimator input.sk-toggleable__control:checked~label.sk-toggleable__label {background-color: #d4ebff;}#sk-container-id-33 div.sk-label input.sk-toggleable__control:checked~label.sk-toggleable__label {background-color: #d4ebff;}#sk-container-id-33 input.sk-hidden--visually {border: 0;clip: rect(1px 1px 1px 1px);clip: rect(1px, 1px, 1px, 1px);height: 1px;margin: -1px;overflow: hidden;padding: 0;position: absolute;width: 1px;}#sk-container-id-33 div.sk-estimator {font-family: monospace;background-color: #f0f8ff;border: 1px dotted black;border-radius: 0.25em;box-sizing: border-box;margin-bottom: 0.5em;}#sk-container-id-33 div.sk-estimator:hover {background-color: #d4ebff;}#sk-container-id-33 div.sk-parallel-item::after {content: \"\";width: 100%;border-bottom: 1px solid gray;flex-grow: 1;}#sk-container-id-33 div.sk-label:hover label.sk-toggleable__label {background-color: #d4ebff;}#sk-container-id-33 div.sk-serial::before {content: \"\";position: absolute;border-left: 1px solid gray;box-sizing: border-box;top: 0;bottom: 0;left: 50%;z-index: 0;}#sk-container-id-33 div.sk-serial {display: flex;flex-direction: column;align-items: center;background-color: white;padding-right: 0.2em;padding-left: 0.2em;position: relative;}#sk-container-id-33 div.sk-item {position: relative;z-index: 1;}#sk-container-id-33 div.sk-parallel {display: flex;align-items: stretch;justify-content: center;background-color: white;position: relative;}#sk-container-id-33 div.sk-item::before, #sk-container-id-33 div.sk-parallel-item::before {content: \"\";position: absolute;border-left: 1px solid gray;box-sizing: border-box;top: 0;bottom: 0;left: 50%;z-index: -1;}#sk-container-id-33 div.sk-parallel-item {display: flex;flex-direction: column;z-index: 1;position: relative;background-color: white;}#sk-container-id-33 div.sk-parallel-item:first-child::after {align-self: flex-end;width: 50%;}#sk-container-id-33 div.sk-parallel-item:last-child::after {align-self: flex-start;width: 50%;}#sk-container-id-33 div.sk-parallel-item:only-child::after {width: 0;}#sk-container-id-33 div.sk-dashed-wrapped {border: 1px dashed gray;margin: 0 0.4em 0.5em 0.4em;box-sizing: border-box;padding-bottom: 0.4em;background-color: white;}#sk-container-id-33 div.sk-label label {font-family: monospace;font-weight: bold;display: inline-block;line-height: 1.2em;}#sk-container-id-33 div.sk-label-container {text-align: center;}#sk-container-id-33 div.sk-container {/* jupyter's `normalize.less` sets `[hidden] { display: none; }` but bootstrap.min.css set `[hidden] { display: none !important; }` so we also need the `!important` here to be able to override the default hidden behavior on the sphinx rendered scikit-learn.org. See: https://github.com/scikit-learn/scikit-learn/issues/21755 */display: inline-block !important;position: relative;}#sk-container-id-33 div.sk-text-repr-fallback {display: none;}</style><div id=\"sk-container-id-33\" class=\"sk-top-container\"><div class=\"sk-text-repr-fallback\"><pre>MLPClassifier(max_iter=500, random_state=42)</pre><b>In a Jupyter environment, please rerun this cell to show the HTML representation or trust the notebook. <br />On GitHub, the HTML representation is unable to render, please try loading this page with nbviewer.org.</b></div><div class=\"sk-container\" hidden><div class=\"sk-item\"><div class=\"sk-estimator sk-toggleable\"><input class=\"sk-toggleable__control sk-hidden--visually\" id=\"sk-estimator-id-33\" type=\"checkbox\" checked><label for=\"sk-estimator-id-33\" class=\"sk-toggleable__label sk-toggleable__label-arrow\">MLPClassifier</label><div class=\"sk-toggleable__content\"><pre>MLPClassifier(max_iter=500, random_state=42)</pre></div></div></div></div></div>"
      ],
      "text/plain": [
       "MLPClassifier(max_iter=500, random_state=42)"
      ]
     },
     "execution_count": 551,
     "metadata": {},
     "output_type": "execute_result"
    }
   ],
   "source": [
    "nn_model.fit(x_train_scaled, y_train)"
   ]
  },
  {
   "cell_type": "markdown",
   "id": "4a5194a5",
   "metadata": {},
   "source": [
    "Step 3: Make predictions using MLP"
   ]
  },
  {
   "cell_type": "code",
   "execution_count": 552,
   "id": "d509f737",
   "metadata": {},
   "outputs": [],
   "source": [
    "# (for evaluation)\n",
    "y_pred_train_nn = nn_model.predict(x_train_scaled)\n",
    "\n",
    "# (for submission)\n",
    "y_pred_test_nn = nn_model.predict(x_test_scaled)"
   ]
  },
  {
   "cell_type": "markdown",
   "id": "a6790307",
   "metadata": {},
   "source": [
    "Step 4: Evaluate the MLP model on the training data"
   ]
  },
  {
   "cell_type": "code",
   "execution_count": 553,
   "id": "c6679140",
   "metadata": {},
   "outputs": [
    {
     "name": "stdout",
     "output_type": "stream",
     "text": [
      "Neural Network - Training Accuracy: 0.9714285714285714\n",
      "Confusion Matrix (Train - Neural Network):\n",
      " [[31  0  0]\n",
      " [ 0 35  2]\n",
      " [ 0  1 36]]\n",
      "Classification Report (Train - Neural Network):\n",
      "               precision    recall  f1-score   support\n",
      "\n",
      "           0       1.00      1.00      1.00        31\n",
      "           1       0.97      0.95      0.96        37\n",
      "           2       0.95      0.97      0.96        37\n",
      "\n",
      "    accuracy                           0.97       105\n",
      "   macro avg       0.97      0.97      0.97       105\n",
      "weighted avg       0.97      0.97      0.97       105\n",
      "\n"
     ]
    }
   ],
   "source": [
    "# Evaluate on training data (Neural Network)\n",
    "print(\"Neural Network - Training Accuracy:\", accuracy_score(y_train, y_pred_train_nn))\n",
    "print(\"Confusion Matrix (Train - Neural Network):\\n\", confusion_matrix(y_train, y_pred_train_nn))\n",
    "print(\"Classification Report (Train - Neural Network):\\n\", classification_report(y_train, y_pred_train_nn))"
   ]
  },
  {
   "cell_type": "markdown",
   "id": "898115ec",
   "metadata": {},
   "source": [
    "## Part 5 - Comparing the models\n",
    "### 5.1 Model Evaluation"
   ]
  },
  {
   "cell_type": "markdown",
   "id": "bb87ee39",
   "metadata": {},
   "source": [
    "Each model's evaluation metrics (accuracy, precision, recall, F1-score) will be stored in a dictionary (results), which is then converted into a dataframe (df_results) for easy comparison. The classification_report output is extracted for the weighted average across classes.\n"
   ]
  },
  {
   "cell_type": "markdown",
   "id": "4f338833",
   "metadata": {},
   "source": [
    "### Chart 11 - comparison of multiple ML models based on key evaluation metrics: Accuracy, Precision, Recall, F1-Score"
   ]
  },
  {
   "cell_type": "code",
   "execution_count": 554,
   "id": "b16dda03",
   "metadata": {},
   "outputs": [
    {
     "name": "stdout",
     "output_type": "stream",
     "text": [
      "                     Accuracy  Precision    Recall  F1-Score\n",
      "Logistic Regression  0.961905   0.962826  0.961905  0.961877\n",
      "Random Forest        1.000000   1.000000  1.000000  1.000000\n",
      "Decision Tree        1.000000   1.000000  1.000000  1.000000\n",
      "SVM                  0.961905   0.961905  0.961905  0.961905\n",
      "XGBoost              1.000000   1.000000  1.000000  1.000000\n",
      "Naive Bayes          0.942857   0.942857  0.942857  0.942857\n",
      "Neural Network       0.971429   0.971665  0.971429  0.971423\n"
     ]
    },
    {
     "data": {
      "image/png": "[encoded data removed]",
      "text/plain": [
       "<Figure size 1080x576 with 1 Axes>"
      ]
     },
     "metadata": {},
     "output_type": "display_data"
    }
   ],
   "source": [
    "# Initialize a dictionary to store all model results\n",
    "results = {}\n",
    "\n",
    "# Logistic Regression\n",
    "results['Logistic Regression'] = {\n",
    "    'Accuracy': accuracy_score(y_train, y_pred_train_lr),\n",
    "    'Confusion Matrix': confusion_matrix(y_train, y_pred_train_lr),\n",
    "    'Classification Report': classification_report(y_train, y_pred_train_lr, output_dict=True)['weighted avg']\n",
    "}\n",
    "\n",
    "# Random Forest\n",
    "results['Random Forest'] = {\n",
    "    'Accuracy': accuracy_score(y_train, y_pred_train_rf),\n",
    "    'Confusion Matrix': confusion_matrix(y_train, y_pred_train_rf),\n",
    "    'Classification Report': classification_report(y_train, y_pred_train_rf, output_dict=True)['weighted avg']\n",
    "}\n",
    "\n",
    "# Decision Tree\n",
    "results['Decision Tree'] = {\n",
    "    'Accuracy': accuracy_score(y_train, y_pred_train_dt),\n",
    "    'Confusion Matrix': confusion_matrix(y_train, y_pred_train_dt),\n",
    "    'Classification Report': classification_report(y_train, y_pred_train_dt, output_dict=True)['weighted avg']\n",
    "}\n",
    "\n",
    "# SVM\n",
    "results['SVM'] = {\n",
    "    'Accuracy': accuracy_score(y_train, y_pred_train_svm),\n",
    "    'Confusion Matrix': confusion_matrix(y_train, y_pred_train_svm),\n",
    "    'Classification Report': classification_report(y_train, y_pred_train_svm, output_dict=True)['weighted avg']\n",
    "}\n",
    "\n",
    "# XGBoost\n",
    "results['XGBoost'] = {\n",
    "    'Accuracy': accuracy_score(y_train, y_pred_train_xgb),\n",
    "    'Confusion Matrix': confusion_matrix(y_train, y_pred_train_xgb),\n",
    "    'Classification Report': classification_report(y_train, y_pred_train_xgb, output_dict=True)['weighted avg']\n",
    "}\n",
    "\n",
    "# Naive Bayes\n",
    "results['Naive Bayes'] = {\n",
    "    'Accuracy': accuracy_score(y_train, y_pred_train_nb),\n",
    "    'Confusion Matrix': confusion_matrix(y_train, y_pred_train_nb),\n",
    "    'Classification Report': classification_report(y_train, y_pred_train_nb, output_dict=True)['weighted avg']\n",
    "}\n",
    "\n",
    "# Neural Network\n",
    "results['Neural Network'] = {\n",
    "    'Accuracy': accuracy_score(y_train, y_pred_train_nn),\n",
    "    'Confusion Matrix': confusion_matrix(y_train, y_pred_train_nn),\n",
    "    'Classification Report': classification_report(y_train, y_pred_train_nn, output_dict=True)['weighted avg']\n",
    "}\n",
    "\n",
    "# Create a DataFrame to compare metrics\n",
    "df_results = pd.DataFrame({\n",
    "    model: {\n",
    "        'Accuracy': results[model]['Accuracy'],\n",
    "        'Precision': results[model]['Classification Report']['precision'],\n",
    "        'Recall': results[model]['Classification Report']['recall'],\n",
    "        'F1-Score': results[model]['Classification Report']['f1-score']\n",
    "    }\n",
    "    for model in results\n",
    "}).T\n",
    "\n",
    "# Display the metrics comparison\n",
    "print(df_results)\n",
    "\n",
    "# Set a clean visual style\n",
    "sns.set(style=\"whitegrid\")\n",
    "\n",
    "# Define custom colors for Accuracy, Precision, Recall, F1-Score\n",
    "custom_colors = ['indigo', 'pink', 'purple', 'violet']  # Different colors for each metric\n",
    "\n",
    "# Create the bar plot with improved aesthetics\n",
    "df_results[['Accuracy', 'Precision', 'Recall', 'F1-Score']].plot(\n",
    "    kind='bar', \n",
    "    figsize=(15, 8),  # Slightly increased figure size\n",
    "    color=custom_colors,\n",
    "    edgecolor='black'  # Add a black edge color to the bars for clarity\n",
    ")\n",
    "\n",
    "# Adding title and axis labels with larger font sizes\n",
    "plt.title(\"Model Comparison - Accuracy, Precision, Recall, F1-Score\", fontsize=16, fontweight='bold')\n",
    "plt.ylabel(\"Score\", fontsize=14)\n",
    "plt.xlabel(\"Models\", fontsize=14)\n",
    "\n",
    "# Set more detailed y-ticks with smaller increments for better distinction\n",
    "plt.yticks([i/20 for i in range(0, 21)], fontsize=12)  # Increment by 0.05 (e.g., 0.00, 0.05, 0.10, ...)\n",
    "\n",
    "# Rotate x-tick labels for readability\n",
    "plt.xticks(rotation=45, ha='right', fontsize=12)\n",
    "\n",
    "# Add gridlines for the y-axis\n",
    "plt.grid(True, axis='y', linestyle='--', alpha=0.7)\n",
    "\n",
    "# Add legend with slightly bigger font size\n",
    "plt.legend(loc='upper right', fontsize=12)\n",
    "\n",
    "# Improve layout spacing\n",
    "plt.tight_layout()\n",
    "\n",
    "# Show the plot\n",
    "plt.show()\n",
    "\n",
    "\n"
   ]
  },
  {
   "cell_type": "markdown",
   "id": "2c4d91ae",
   "metadata": {},
   "source": [
    "Based on the chart 11:\n",
    "\n",
    "\n",
    "- Accuracy:\n",
    "\n",
    "Logistic Regression, SVM, and Neural Network achieve high accuracy scores of around 96%.\n",
    "\n",
    "Random Forest, Decision Tree, and XGBoost models achieve perfect accuracy (1.0), meaning they predict all training instances correctly.\n",
    "\n",
    "Naive Bayes has the lowest accuracy (94.29%) among all the models, but it's still close to the top models.\n",
    "\n",
    "- Precision - measures the ability of the model to correctly predict positive labels:\n",
    "\n",
    "Random Forest, Decision Tree, and XGBoost models again have perfect precision (1.0), which means no false positives.\n",
    "\n",
    "Neural Network and Logistic Regression also perform well, with precision scores above 96%.\n",
    "\n",
    "- Recall - indicates how well the model identifies true positives:\n",
    "\n",
    "Again, Random Forest, Decision Tree, and XGBoost have perfect recall (1.0).\n",
    "\n",
    "Logistic Regression, SVM, and Neural Network achieve a recall of around 96%, while Naive Bayes lags behind at 94.29%.\n",
    "\n",
    "- F1-Score - is the harmonic mean of precision and recall. It balances both metrics, especially useful in imbalanced datasets.\n",
    "\n",
    "The Random Forest, Decision Tree, and XGBoost models achieve a perfect F1-Score of 1.0, indicating optimal performance on both precision and recall.\n",
    "\n",
    "Neural Network, Logistic Regression, and SVM are slightly behind with F1-Scores of approximately 96%.\n",
    "\n",
    "Naive Bayes has the lowest F1-Score at 94.29%.\n",
    "\n",
    "The Random Forest, Decision Tree, and XGBoost models have achieved perfect scores across all evaluation metrics. These models perform best on the training dataset.\n",
    "Logistic Regression, SVM, and Neural Networks also perform very well, but slightly less than the top three models.\n",
    "Naive Bayes, although slightly lower in all metrics, is still a good model, but its performance is below that of the other models."
   ]
  },
  {
   "cell_type": "markdown",
   "id": "22fce644",
   "metadata": {},
   "source": [
    "### 5.2 Cross-Validation"
   ]
  },
  {
   "cell_type": "markdown",
   "id": "966d1b14",
   "metadata": {},
   "source": [
    "### Chart 12 - Model Comparison - Mean Cross-Validation Accuracy "
   ]
  },
  {
   "cell_type": "code",
   "execution_count": 555,
   "id": "51200bbb",
   "metadata": {},
   "outputs": [
    {
     "name": "stdout",
     "output_type": "stream",
     "text": [
      "\n",
      "Performing Cross-Validation for Logistic Regression\n",
      "Logistic Regression Cross-Validation Scores: [0.95238095 0.9047619  0.9047619  1.         0.95238095]\n",
      "Mean Logistic Regression Cross-Validation Accuracy: 0.9429\n",
      "Standard Deviation of Logistic Regression Cross-Validation Scores: 0.0356\n",
      "\n",
      "Performing Cross-Validation for Random Forest\n",
      "Random Forest Cross-Validation Scores: [0.95238095 0.9047619  0.9047619  1.         0.95238095]\n",
      "Mean Random Forest Cross-Validation Accuracy: 0.9429\n",
      "Standard Deviation of Random Forest Cross-Validation Scores: 0.0356\n",
      "\n",
      "Performing Cross-Validation for Decision Tree\n",
      "Decision Tree Cross-Validation Scores: [0.95238095 0.9047619  0.9047619  0.95238095 0.95238095]\n",
      "Mean Decision Tree Cross-Validation Accuracy: 0.9333\n",
      "Standard Deviation of Decision Tree Cross-Validation Scores: 0.0233\n",
      "\n",
      "Performing Cross-Validation for SVM\n",
      "SVM Cross-Validation Scores: [0.95238095 0.9047619  0.9047619  1.         0.95238095]\n",
      "Mean SVM Cross-Validation Accuracy: 0.9429\n",
      "Standard Deviation of SVM Cross-Validation Scores: 0.0356\n",
      "\n",
      "Performing Cross-Validation for XGBoost\n",
      "XGBoost Cross-Validation Scores: [0.95238095 0.9047619  0.80952381 0.95238095 0.95238095]\n",
      "Mean XGBoost Cross-Validation Accuracy: 0.9143\n",
      "Standard Deviation of XGBoost Cross-Validation Scores: 0.0555\n",
      "\n",
      "Performing Cross-Validation for Naive Bayes\n",
      "Naive Bayes Cross-Validation Scores: [0.95238095 0.9047619  0.9047619  1.         0.9047619 ]\n",
      "Mean Naive Bayes Cross-Validation Accuracy: 0.9333\n",
      "Standard Deviation of Naive Bayes Cross-Validation Scores: 0.0381\n",
      "\n",
      "Performing Cross-Validation for Neural Network\n",
      "Neural Network Cross-Validation Scores: [0.95238095 0.9047619  0.9047619  1.         0.9047619 ]\n",
      "Mean Neural Network Cross-Validation Accuracy: 0.9333\n",
      "Standard Deviation of Neural Network Cross-Validation Scores: 0.0381\n",
      "\n",
      "Cross-Validation Summary:\n",
      "                     Mean Accuracy  Std Deviation\n",
      "Logistic Regression       0.942857       0.039841\n",
      "Random Forest             0.942857       0.039841\n",
      "Decision Tree             0.933333       0.026082\n",
      "SVM                       0.942857       0.039841\n",
      "XGBoost                   0.914286       0.062088\n",
      "Naive Bayes               0.933333       0.042592\n",
      "Neural Network            0.933333       0.042592\n"
     ]
    },
    {
     "data": {
      "image/png": "[encoded data removed]",
      "text/plain": [
       "<Figure size 720x432 with 1 Axes>"
      ]
     },
     "metadata": {},
     "output_type": "display_data"
    }
   ],
   "source": [
    "from sklearn.model_selection import cross_val_score\n",
    "\n",
    "# Define a dictionary to hold the models and their names\n",
    "models = {\n",
    "    'Logistic Regression': lr_model,\n",
    "    'Random Forest': rf_model,\n",
    "    'Decision Tree': dt_model,\n",
    "    'SVM': svm_model,\n",
    "    'XGBoost': xgb_model,\n",
    "    'Naive Bayes': nb_model,\n",
    "    'Neural Network': nn_model\n",
    "}\n",
    "\n",
    "# Dictionary to store cross-validation results\n",
    "cv_results = {}\n",
    "\n",
    "# Perform 5-Fold Cross-Validation for each model\n",
    "for model_name, model in models.items():\n",
    "    print(f\"\\nPerforming Cross-Validation for {model_name}\")\n",
    "    \n",
    "    # Cross-validation (using Accuracy as a metric, but you can change to others like 'f1_macro' or 'recall')\n",
    "    cv_scores = cross_val_score(model, x_train_scaled, y_train, cv=5, scoring='accuracy')\n",
    "    \n",
    "    # Store the results in the dictionary\n",
    "    cv_results[model_name] = cv_scores\n",
    "    \n",
    "    # Print Cross-Validation results\n",
    "    print(f\"{model_name} Cross-Validation Scores: {cv_scores}\")\n",
    "    print(f\"Mean {model_name} Cross-Validation Accuracy: {cv_scores.mean():.4f}\")\n",
    "    print(f\"Standard Deviation of {model_name} Cross-Validation Scores: {cv_scores.std():.4f}\")\n",
    "\n",
    "# Optionally: Creating a DataFrame to store and visualize the results\n",
    "import pandas as pd\n",
    "\n",
    "# Creating a DataFrame from the cross-validation results\n",
    "cv_df = pd.DataFrame(cv_results)\n",
    "\n",
    "# Display the mean and standard deviation of Cross-Validation scores\n",
    "cv_summary = pd.DataFrame({\n",
    "    'Mean Accuracy': cv_df.mean(),\n",
    "    'Std Deviation': cv_df.std()\n",
    "})\n",
    "\n",
    "# Display the results\n",
    "print(\"\\nCross-Validation Summary:\")\n",
    "print(cv_summary)\n",
    "\n",
    "# Setting a color palette for different models\n",
    "colors = sns.color_palette(\"Set2\", len(cv_summary))\n",
    "\n",
    "# Creating a bar plot with more granular y-ticks\n",
    "plt.figure(figsize=(10, 6))\n",
    "bars = plt.bar(cv_summary.index, cv_summary['Mean Accuracy'], \n",
    "               yerr=cv_summary['Std Deviation'], \n",
    "               color=colors, capsize=5)\n",
    "\n",
    "# Adding gridlines and increasing y-axis granularity\n",
    "plt.grid(axis='y', linestyle='--', alpha=0.7)\n",
    "plt.ylim(0.85, 1.02)  # Adjusting y-limits to zoom into the top range of the accuracy\n",
    "plt.yticks(np.arange(0.85, 1.01, 0.01))  # Setting more detailed y-axis ticks\n",
    "\n",
    "# Adding labels\n",
    "plt.title('Model Comparison - Mean Cross-Validation Accuracy (with Standard Deviation)')\n",
    "plt.ylabel('Mean Accuracy')\n",
    "plt.xticks(rotation=45)\n",
    "\n",
    "# Adding text labels on top of the bars for better readability\n",
    "for bar in bars:\n",
    "    yval = bar.get_height()\n",
    "    plt.text(bar.get_x() + bar.get_width()/2 - 0.5, yval + 0.005, round(yval, 4), fontsize=10, fontweight='bold')\n",
    "\n",
    "# Show the plot\n",
    "plt.tight_layout()\n",
    "plt.show()\n"
   ]
  },
  {
   "cell_type": "markdown",
   "id": "4f91e9ed",
   "metadata": {},
   "source": [
    "Based on the chart 11:\n",
    "\n",
    "- Cross-Validation Results - include the cross-validation scores for each model over multiple folds, which provide an estimate of how well the models perform on unseen data. The mean accuracy represents the average accuracy of the models across all the cross-validation folds, and the standard deviation shows the variation or consistency of the model's performance across those folds.\n",
    "\n",
    "- Mean Accuracy - All models have performed well, with most models achieving high mean accuracy scores, close to or above 0.93.\n",
    "\n",
    "Logistic Regression, Random Forest, SVM, and Decision Tree achieved the highest mean accuracy scores of approximately 0.9429, while Naive Bayes and Neural Network models have mean accuracies of 0.9333.\n",
    "XGBoost has the lowest mean accuracy (0.9143), which is still quite competitive but slightly lower than the other models.\n",
    "\n",
    "Standard Deviation - provides insight into how much the model's performance varies between different cross-validation folds.\n",
    "\n",
    "Decision Tree has the smallest standard deviation (0.0233), indicating it has the most consistent performance across folds.\n",
    "\n",
    "XGBoost has the highest standard deviation (0.0621), suggesting that its performance may vary more significantly across different data splits.\n",
    "\n",
    "\n",
    "The bar plot visually compares the mean cross-validation accuracy for each model, with error bars showing the standard deviation. The plot makes it easy to observe that while most models perform similarly, XGBoost has a slightly lower accuracy and a higher variation, indicating it may not generalize as consistently as other models.\n",
    "\n",
    "Based on the results, Logistic Regression, Random Forest, and SVM show the best combination of high accuracy and moderate standard deviation, indicating strong generalization abilities. Decision Tree also performs very well in terms of both accuracy and consistency. XGBoost's lower accuracy and higher variability make it the least optimal model in this comparison.\n"
   ]
  },
  {
   "cell_type": "markdown",
   "id": "948014be",
   "metadata": {},
   "source": [
    "### 5.3 Hyperparameter Tuning \n",
    "This part is done to improve the model’s performance by finding the optimal settings for the hyperparameters, which are not learned by the model during the training process."
   ]
  },
  {
   "cell_type": "code",
   "execution_count": 556,
   "id": "11c62b52",
   "metadata": {},
   "outputs": [
    {
     "name": "stdout",
     "output_type": "stream",
     "text": [
      "Fitting 5 folds for each of 8 candidates, totalling 40 fits\n",
      "Best Logistic Regression Params: {'C': 1, 'penalty': 'l2', 'solver': 'lbfgs'}\n",
      "Best Logistic Regression Accuracy: 0.9428571428571428\n",
      "Fitting 5 folds for each of 81 candidates, totalling 405 fits\n",
      "Best Random Forest Params: {'max_depth': 10, 'min_samples_leaf': 1, 'min_samples_split': 2, 'n_estimators': 100}\n",
      "Best Random Forest Accuracy: 0.9523809523809523\n",
      "Fitting 5 folds for each of 27 candidates, totalling 135 fits\n",
      "Best Decision Tree Params: {'max_depth': 10, 'min_samples_leaf': 1, 'min_samples_split': 10}\n",
      "Best Decision Tree Accuracy: 0.9428571428571428\n",
      "Fitting 5 folds for each of 12 candidates, totalling 60 fits\n",
      "Best SVM Params: {'C': 10, 'gamma': 'scale', 'kernel': 'linear'}\n",
      "Best SVM Accuracy: 0.9523809523809523\n",
      "Fitting 5 folds for each of 27 candidates, totalling 135 fits\n",
      "Best XGBoost Params: {'learning_rate': 0.1, 'max_depth': 6, 'n_estimators': 200}\n",
      "Best XGBoost Accuracy: 0.9333333333333333\n",
      "Naive Bayes Accuracy: 0.9428571428571428\n",
      "Fitting 5 folds for each of 12 candidates, totalling 60 fits\n",
      "Best Neural Network Params: {'activation': 'relu', 'hidden_layer_sizes': (100,), 'learning_rate': 'constant'}\n",
      "Best Neural Network Accuracy: 0.9428571428571428\n"
     ]
    }
   ],
   "source": [
    "from sklearn.model_selection import GridSearchCV\n",
    "from sklearn.linear_model import LogisticRegression\n",
    "from sklearn.ensemble import RandomForestClassifier\n",
    "from sklearn.tree import DecisionTreeClassifier\n",
    "from sklearn.svm import SVC\n",
    "from xgboost import XGBClassifier\n",
    "from sklearn.naive_bayes import GaussianNB\n",
    "from sklearn.neural_network import MLPClassifier\n",
    "\n",
    "# Define parameter grids for each model\n",
    "param_grids = {\n",
    "    'LogisticRegression': {\n",
    "        'C': [0.01, 0.1, 1, 10],\n",
    "        'penalty': ['l2'],\n",
    "        'solver': ['lbfgs', 'liblinear']\n",
    "    },\n",
    "    'RandomForest': {\n",
    "        'n_estimators': [50, 100, 200],\n",
    "        'max_depth': [10, 20, None],\n",
    "        'min_samples_split': [2, 5, 10],\n",
    "        'min_samples_leaf': [1, 2, 4]\n",
    "    },\n",
    "    'DecisionTree': {\n",
    "        'max_depth': [10, 20, None],\n",
    "        'min_samples_split': [2, 5, 10],\n",
    "        'min_samples_leaf': [1, 2, 4]\n",
    "    },\n",
    "    'SVM': {\n",
    "        'C': [0.1, 1, 10],\n",
    "        'kernel': ['linear', 'rbf'],\n",
    "        'gamma': ['scale', 'auto']\n",
    "    },\n",
    "    'XGBoost': {\n",
    "        'n_estimators': [100, 200, 300],\n",
    "        'learning_rate': [0.01, 0.1, 0.2],\n",
    "        'max_depth': [3, 6, 10]\n",
    "    },\n",
    "    'NeuralNetwork': {\n",
    "        'hidden_layer_sizes': [(50,), (100,), (50, 50)],\n",
    "        'activation': ['relu', 'tanh'],\n",
    "        'learning_rate': ['constant', 'adaptive']\n",
    "    }\n",
    "}\n",
    "\n",
    "# Logistic Regression Tuning\n",
    "logistic_reg = LogisticRegression(max_iter=200)\n",
    "grid_logistic = GridSearchCV(logistic_reg, param_grids['LogisticRegression'], cv=5, n_jobs=-1, verbose=1)\n",
    "grid_logistic.fit(x_train_scaled, y_train)\n",
    "print(f\"Best Logistic Regression Params: {grid_logistic.best_params_}\")\n",
    "print(f\"Best Logistic Regression Accuracy: {grid_logistic.best_score_}\")\n",
    "\n",
    "# Random Forest Tuning\n",
    "random_forest = RandomForestClassifier()\n",
    "grid_rf = GridSearchCV(random_forest, param_grids['RandomForest'], cv=5, n_jobs=-1, verbose=1)\n",
    "grid_rf.fit(x_train_scaled, y_train)\n",
    "print(f\"Best Random Forest Params: {grid_rf.best_params_}\")\n",
    "print(f\"Best Random Forest Accuracy: {grid_rf.best_score_}\")\n",
    "\n",
    "# Decision Tree Tuning\n",
    "decision_tree = DecisionTreeClassifier()\n",
    "grid_dt = GridSearchCV(decision_tree, param_grids['DecisionTree'], cv=5, n_jobs=-1, verbose=1)\n",
    "grid_dt.fit(x_train_scaled, y_train)\n",
    "print(f\"Best Decision Tree Params: {grid_dt.best_params_}\")\n",
    "print(f\"Best Decision Tree Accuracy: {grid_dt.best_score_}\")\n",
    "\n",
    "# SVM Tuning\n",
    "svm = SVC()\n",
    "grid_svm = GridSearchCV(svm, param_grids['SVM'], cv=5, n_jobs=-1, verbose=1)\n",
    "grid_svm.fit(x_train_scaled, y_train)\n",
    "print(f\"Best SVM Params: {grid_svm.best_params_}\")\n",
    "print(f\"Best SVM Accuracy: {grid_svm.best_score_}\")\n",
    "\n",
    "# XGBoost Tuning\n",
    "xgb = XGBClassifier()\n",
    "grid_xgb = GridSearchCV(xgb, param_grids['XGBoost'], cv=5, n_jobs=-1, verbose=1)\n",
    "grid_xgb.fit(x_train_scaled, y_train)\n",
    "print(f\"Best XGBoost Params: {grid_xgb.best_params_}\")\n",
    "print(f\"Best XGBoost Accuracy: {grid_xgb.best_score_}\")\n",
    "\n",
    "# Naive Bayes (no significant hyperparameters to tune, keeping simple)\n",
    "nb = GaussianNB()\n",
    "nb.fit(x_train_scaled, y_train)\n",
    "print(f\"Naive Bayes Accuracy: {nb.score(x_train_scaled, y_train)}\")\n",
    "\n",
    "# Neural Network (MLPClassifier) Tuning\n",
    "mlp = MLPClassifier(max_iter=500)\n",
    "grid_nn = GridSearchCV(mlp, param_grids['NeuralNetwork'], cv=5, n_jobs=-1, verbose=1)\n",
    "grid_nn.fit(x_train_scaled, y_train)\n",
    "print(f\"Best Neural Network Params: {grid_nn.best_params_}\")\n",
    "print(f\"Best Neural Network Accuracy: {grid_nn.best_score_}\")\n"
   ]
  },
  {
   "cell_type": "markdown",
   "id": "487f1c27",
   "metadata": {},
   "source": [
    "Here, each model has its own set of parameters (C for Logistic Regression, max_depth and n_estimators for Random Forest, etc.) and GridSearchCV helps us search through the combinations of these parameters to find the best set.\n",
    "\n",
    "The accuracy scores show how well each model performed using the best set of parameters found by GridSearchCV.\n",
    "\n",
    "Models like Random Forest, SVM, and Neural Network achieved higher accuracy (around 0.9524), while XGBoost had the lowest accuracy (0.9143) among the tuned models.\n",
    "\n",
    "Naive Bayes kept simple, because, typically, Gaussian Naive Bayes has fewer hyperparameters to adjust compared to other models like Random Forest or Neural Networks. It performs well with its default settings because of its simplicity and strong assumptions (independence of features). Gaussian Naive Bayes has only one key parameter, var_smoothing, which controls how much variance is added to the data to avoid division by zero errors, but it's less commonly tuned.\n"
   ]
  },
  {
   "cell_type": "markdown",
   "id": "259aa176",
   "metadata": {},
   "source": [
    "#### Evaluate the performance of each tuned model on the training set."
   ]
  },
  {
   "cell_type": "code",
   "execution_count": 557,
   "id": "d2f1e8cc",
   "metadata": {},
   "outputs": [
    {
     "name": "stdout",
     "output_type": "stream",
     "text": [
      "Evaluation for Logistic Regression on Training Data\n",
      "Accuracy: 0.9619\n",
      "Precision: 0.9628\n",
      "Recall: 0.9619\n",
      "F1-Score: 0.9619\n",
      "Confusion Matrix:\n",
      "[[31  0  0]\n",
      " [ 0 34  3]\n",
      " [ 0  1 36]]\n",
      "Classification Report:\n",
      "              precision    recall  f1-score   support\n",
      "\n",
      "           0       1.00      1.00      1.00        31\n",
      "           1       0.97      0.92      0.94        37\n",
      "           2       0.92      0.97      0.95        37\n",
      "\n",
      "    accuracy                           0.96       105\n",
      "   macro avg       0.96      0.96      0.96       105\n",
      "weighted avg       0.96      0.96      0.96       105\n",
      "\n",
      "\n",
      "\n",
      "Evaluation for Random Forest on Training Data\n",
      "Accuracy: 1.0000\n",
      "Precision: 1.0000\n",
      "Recall: 1.0000\n",
      "F1-Score: 1.0000\n",
      "Confusion Matrix:\n",
      "[[31  0  0]\n",
      " [ 0 37  0]\n",
      " [ 0  0 37]]\n",
      "Classification Report:\n",
      "              precision    recall  f1-score   support\n",
      "\n",
      "           0       1.00      1.00      1.00        31\n",
      "           1       1.00      1.00      1.00        37\n",
      "           2       1.00      1.00      1.00        37\n",
      "\n",
      "    accuracy                           1.00       105\n",
      "   macro avg       1.00      1.00      1.00       105\n",
      "weighted avg       1.00      1.00      1.00       105\n",
      "\n",
      "\n",
      "\n",
      "Evaluation for Decision Tree on Training Data\n",
      "Accuracy: 0.9524\n",
      "Precision: 0.9544\n",
      "Recall: 0.9524\n",
      "F1-Score: 0.9523\n",
      "Confusion Matrix:\n",
      "[[31  0  0]\n",
      " [ 0 36  1]\n",
      " [ 0  4 33]]\n",
      "Classification Report:\n",
      "              precision    recall  f1-score   support\n",
      "\n",
      "           0       1.00      1.00      1.00        31\n",
      "           1       0.90      0.97      0.94        37\n",
      "           2       0.97      0.89      0.93        37\n",
      "\n",
      "    accuracy                           0.95       105\n",
      "   macro avg       0.96      0.95      0.95       105\n",
      "weighted avg       0.95      0.95      0.95       105\n",
      "\n",
      "\n",
      "\n",
      "Evaluation for SVM on Training Data\n",
      "Accuracy: 0.9619\n",
      "Precision: 0.9656\n",
      "Recall: 0.9619\n",
      "F1-Score: 0.9618\n",
      "Confusion Matrix:\n",
      "[[31  0  0]\n",
      " [ 0 33  4]\n",
      " [ 0  0 37]]\n",
      "Classification Report:\n",
      "              precision    recall  f1-score   support\n",
      "\n",
      "           0       1.00      1.00      1.00        31\n",
      "           1       1.00      0.89      0.94        37\n",
      "           2       0.90      1.00      0.95        37\n",
      "\n",
      "    accuracy                           0.96       105\n",
      "   macro avg       0.97      0.96      0.96       105\n",
      "weighted avg       0.97      0.96      0.96       105\n",
      "\n",
      "\n",
      "\n",
      "Evaluation for XGBoost on Training Data\n",
      "Accuracy: 1.0000\n",
      "Precision: 1.0000\n",
      "Recall: 1.0000\n",
      "F1-Score: 1.0000\n",
      "Confusion Matrix:\n",
      "[[31  0  0]\n",
      " [ 0 37  0]\n",
      " [ 0  0 37]]\n",
      "Classification Report:\n",
      "              precision    recall  f1-score   support\n",
      "\n",
      "           0       1.00      1.00      1.00        31\n",
      "           1       1.00      1.00      1.00        37\n",
      "           2       1.00      1.00      1.00        37\n",
      "\n",
      "    accuracy                           1.00       105\n",
      "   macro avg       1.00      1.00      1.00       105\n",
      "weighted avg       1.00      1.00      1.00       105\n",
      "\n",
      "\n",
      "\n",
      "Evaluation for Naive Bayes on Training Data\n",
      "Accuracy: 0.9429\n",
      "Precision: 0.9429\n",
      "Recall: 0.9429\n",
      "F1-Score: 0.9429\n",
      "Confusion Matrix:\n",
      "[[31  0  0]\n",
      " [ 0 34  3]\n",
      " [ 0  3 34]]\n",
      "Classification Report:\n",
      "              precision    recall  f1-score   support\n",
      "\n",
      "           0       1.00      1.00      1.00        31\n",
      "           1       0.92      0.92      0.92        37\n",
      "           2       0.92      0.92      0.92        37\n",
      "\n",
      "    accuracy                           0.94       105\n",
      "   macro avg       0.95      0.95      0.95       105\n",
      "weighted avg       0.94      0.94      0.94       105\n",
      "\n",
      "\n",
      "\n",
      "Evaluation for Neural Network on Training Data\n",
      "Accuracy: 0.9714\n",
      "Precision: 0.9717\n",
      "Recall: 0.9714\n",
      "F1-Score: 0.9714\n",
      "Confusion Matrix:\n",
      "[[31  0  0]\n",
      " [ 0 35  2]\n",
      " [ 0  1 36]]\n",
      "Classification Report:\n",
      "              precision    recall  f1-score   support\n",
      "\n",
      "           0       1.00      1.00      1.00        31\n",
      "           1       0.97      0.95      0.96        37\n",
      "           2       0.95      0.97      0.96        37\n",
      "\n",
      "    accuracy                           0.97       105\n",
      "   macro avg       0.97      0.97      0.97       105\n",
      "weighted avg       0.97      0.97      0.97       105\n",
      "\n",
      "\n",
      "\n"
     ]
    }
   ],
   "source": [
    "# Evaluate on training data and print out metrics\n",
    "def evaluate_model_on_train(model, model_name, x_train, y_train):\n",
    "    y_pred_train = model.predict(x_train)\n",
    "    \n",
    "    print(f\"Evaluation for {model_name} on Training Data\")\n",
    "    print(f\"Accuracy: {accuracy_score(y_train, y_pred_train):.4f}\")\n",
    "    print(f\"Precision: {precision_score(y_train, y_pred_train, average='weighted'):.4f}\")\n",
    "    print(f\"Recall: {recall_score(y_train, y_pred_train, average='weighted'):.4f}\")\n",
    "    print(f\"F1-Score: {f1_score(y_train, y_pred_train, average='weighted'):.4f}\")\n",
    "    print(\"Confusion Matrix:\")\n",
    "    print(confusion_matrix(y_train, y_pred_train))\n",
    "    print(\"Classification Report:\")\n",
    "    print(classification_report(y_train, y_pred_train))\n",
    "    print(\"\\n\")\n",
    "\n",
    "# Logistic Regression\n",
    "evaluate_model_on_train(grid_logistic, 'Logistic Regression', x_train_scaled, y_train)\n",
    "\n",
    "# Random Forest\n",
    "evaluate_model_on_train(grid_rf, 'Random Forest', x_train_scaled, y_train)\n",
    "\n",
    "# Decision Tree\n",
    "evaluate_model_on_train(grid_dt, 'Decision Tree', x_train_scaled, y_train)\n",
    "\n",
    "# SVM\n",
    "evaluate_model_on_train(grid_svm, 'SVM', x_train_scaled, y_train)\n",
    "\n",
    "# XGBoost\n",
    "evaluate_model_on_train(grid_xgb, 'XGBoost', x_train_scaled, y_train)\n",
    "\n",
    "# Naive Bayes (since it wasn't tuned, just use the original model)\n",
    "evaluate_model_on_train(nb, 'Naive Bayes', x_train_scaled, y_train)\n",
    "\n",
    "# Neural Network\n",
    "evaluate_model_on_train(grid_nn, 'Neural Network', x_train_scaled, y_train)\n",
    "\n",
    "# Convert results to DataFrame for better readability\n",
    "import pandas as pd\n",
    "df_train_results_evaluate = pd.DataFrame(results)"
   ]
  },
  {
   "cell_type": "markdown",
   "id": "03474007",
   "metadata": {},
   "source": [
    "The section above presents the evaluation metrics for each tuned model on the training dataset. The metrics considered are Accuracy, Precision, Recall, F1-Score, and the Confusion Matrix for a comprehensive analysis of each model’s performance.\n",
    "\n",
    "- Logistic Regression\n",
    "Accuracy: 0.9619; Precision: 0.9628; Recall: 0.9619; F1-Score: 0.9619;\n",
    "\n",
    "The confusion matrix for Logistic Regression indicates no misclassifications for class 0, with a few misclassifications observed between classes 1 and 2. Overall, the model performs well with a balanced performance across all metrics.\n",
    "\n",
    "- Random Forest\n",
    "Accuracy: 0.9524; Precision: 0.9526; Recall: 0.9524; F1-Score: 0.9524;\n",
    "\n",
    "Similar to Logistic Regression, Random Forest displays high accuracy and consistent performance across precision, recall, and F1-score. The confusion matrix shows slight misclassifications for classes 1 and 2, but overall, the model provides reliable predictions.\n",
    "\n",
    "- Decision Tree\n",
    "Accuracy: 0.9714; Precision: 0.9736; Recall: 0.9714; F1-Score: 0.9714;\n",
    "\n",
    "The Decision Tree model exhibits strong performance with high accuracy and precision. The confusion matrix shows no misclassifications for class 0, while classes 1 and 2 exhibit minimal misclassifications. The model is highly effective on the training data.\n",
    "\n",
    "- Support Vector Machine (SVM)\n",
    "Accuracy: 0.9619; Precision: 0.9656; Recall: 0.9619; F1-Score: 0.9618;\n",
    "\n",
    "The SVM model performs similarly to Logistic Regression, with no misclassifications for class 0 and minimal errors between classes 1 and 2. The overall performance is robust with consistent accuracy, precision, and recall.\n",
    "\n",
    "- XGBoost\n",
    "Accuracy: 1.0000; Precision: 1.0000; Recall: 1.0000; F1-Score: 1.0000;\n",
    "\n",
    "The XGBoost model achieved perfect accuracy, precision, recall, and F1-score on the training data. The confusion matrix confirms no misclassifications across all classes, indicating the model may be overfitting to the training data.\n",
    "\n",
    "- Naive Bayes\n",
    "Accuracy: 0.9429; Precision: 0.9429; Recall: 0.9429; F1-Score: 0.9429;\n",
    "\n",
    "The Naive Bayes model shows slightly lower performance compared to the other models, with a balanced confusion matrix indicating some misclassifications in classes 1 and 2. However, it still provides relatively strong performance on the training data.\n",
    "\n",
    "- Neural Network\n",
    "Accuracy: 0.9810; Precision: 0.9810; Recall: 0.9810; F1-Score: 0.9810;\n",
    "\n",
    "The Neural Network model delivers excellent performance with very high accuracy, precision, recall, and F1-score. The confusion matrix shows no errors for class 0 and minimal misclassifications for classes 1 and 2, reflecting the model's ability to generalize well on the training data.\n",
    "\n",
    "While models like XGBoost show perfect scores, which may suggest overfitting, other models like Logistic Regression and Random Forest show strong, yet more balanced, performance."
   ]
  },
  {
   "cell_type": "markdown",
   "id": "d772614f",
   "metadata": {},
   "source": [
    "### Part 6 - Generating predictions on the test data"
   ]
  },
  {
   "cell_type": "markdown",
   "id": "851f5112",
   "metadata": {},
   "source": [
    "The next step will be to generate predictions on the test data (the data without target labels) using the tuned models. "
   ]
  },
  {
   "cell_type": "markdown",
   "id": "5d71b97d",
   "metadata": {},
   "source": [
    "Step 1: Generate Predictions for Each Model"
   ]
  },
  {
   "cell_type": "markdown",
   "id": "dbe1dcd4",
   "metadata": {},
   "source": [
    "#### 6.1 Logistic Regression:"
   ]
  },
  {
   "cell_type": "code",
   "execution_count": 558,
   "id": "cc37013c",
   "metadata": {},
   "outputs": [],
   "source": [
    "y_pred_test_lr = grid_logistic.predict(x_test_scaled)"
   ]
  },
  {
   "cell_type": "markdown",
   "id": "8f3e4e69",
   "metadata": {},
   "source": [
    "#### 6.2 Random Forest:"
   ]
  },
  {
   "cell_type": "code",
   "execution_count": 559,
   "id": "8b5482b8",
   "metadata": {},
   "outputs": [],
   "source": [
    "y_pred_test_rf = grid_rf.predict(x_test_scaled)"
   ]
  },
  {
   "cell_type": "markdown",
   "id": "96781fd1",
   "metadata": {},
   "source": [
    "#### 6.3 Decision Tree:"
   ]
  },
  {
   "cell_type": "code",
   "execution_count": 560,
   "id": "ca197c9f",
   "metadata": {},
   "outputs": [],
   "source": [
    "y_pred_test_dt = grid_dt.predict(x_test_scaled)"
   ]
  },
  {
   "cell_type": "markdown",
   "id": "ce98e623",
   "metadata": {},
   "source": [
    "#### 6.4 SVM:"
   ]
  },
  {
   "cell_type": "code",
   "execution_count": 561,
   "id": "a4a093bf",
   "metadata": {},
   "outputs": [],
   "source": [
    "y_pred_test_svm = grid_svm.predict(x_test_scaled)"
   ]
  },
  {
   "cell_type": "markdown",
   "id": "26d3d91d",
   "metadata": {},
   "source": [
    "#### 6.5 XGBoost:"
   ]
  },
  {
   "cell_type": "code",
   "execution_count": 562,
   "id": "2cf4ac80",
   "metadata": {},
   "outputs": [],
   "source": [
    "y_pred_test_xgb = grid_xgb.predict(x_test_scaled)"
   ]
  },
  {
   "cell_type": "markdown",
   "id": "ef26144d",
   "metadata": {},
   "source": [
    "#### 6.6 Naive Bayes:"
   ]
  },
  {
   "cell_type": "code",
   "execution_count": 563,
   "id": "9d0795ae",
   "metadata": {},
   "outputs": [],
   "source": [
    "y_pred_test_nb = nb.predict(x_test_scaled)"
   ]
  },
  {
   "cell_type": "markdown",
   "id": "1d6a51be",
   "metadata": {},
   "source": [
    "#### 6.7 Neural Network:"
   ]
  },
  {
   "cell_type": "code",
   "execution_count": 564,
   "id": "edda9374",
   "metadata": {},
   "outputs": [],
   "source": [
    "y_pred_test_nn = grid_nn.predict(x_test_scaled)"
   ]
  },
  {
   "cell_type": "markdown",
   "id": "d8c1f29a",
   "metadata": {},
   "source": [
    "### Part 7 - Creating Submission File"
   ]
  },
  {
   "cell_type": "markdown",
   "id": "84cc3e25",
   "metadata": {},
   "source": [
    "#### 7.1 Submission File for SVM model prediction "
   ]
  },
  {
   "cell_type": "code",
   "execution_count": 565,
   "id": "e864bfdc",
   "metadata": {},
   "outputs": [
    {
     "data": {
      "text/html": [
       "<div>\n",
       "<style scoped>\n",
       "    .dataframe tbody tr th:only-of-type {\n",
       "        vertical-align: middle;\n",
       "    }\n",
       "\n",
       "    .dataframe tbody tr th {\n",
       "        vertical-align: top;\n",
       "    }\n",
       "\n",
       "    .dataframe thead th {\n",
       "        text-align: right;\n",
       "    }\n",
       "</style>\n",
       "<table border=\"1\" class=\"dataframe\">\n",
       "  <thead>\n",
       "    <tr style=\"text-align: right;\">\n",
       "      <th></th>\n",
       "      <th>id</th>\n",
       "      <th>target</th>\n",
       "    </tr>\n",
       "  </thead>\n",
       "  <tbody>\n",
       "    <tr>\n",
       "      <th>0</th>\n",
       "      <td>73</td>\n",
       "      <td>1</td>\n",
       "    </tr>\n",
       "    <tr>\n",
       "      <th>1</th>\n",
       "      <td>18</td>\n",
       "      <td>0</td>\n",
       "    </tr>\n",
       "    <tr>\n",
       "      <th>2</th>\n",
       "      <td>118</td>\n",
       "      <td>2</td>\n",
       "    </tr>\n",
       "    <tr>\n",
       "      <th>3</th>\n",
       "      <td>78</td>\n",
       "      <td>1</td>\n",
       "    </tr>\n",
       "    <tr>\n",
       "      <th>4</th>\n",
       "      <td>76</td>\n",
       "      <td>1</td>\n",
       "    </tr>\n",
       "  </tbody>\n",
       "</table>\n",
       "</div>"
      ],
      "text/plain": [
       "    id  target\n",
       "0   73       1\n",
       "1   18       0\n",
       "2  118       2\n",
       "3   78       1\n",
       "4   76       1"
      ]
     },
     "execution_count": 565,
     "metadata": {},
     "output_type": "execute_result"
    }
   ],
   "source": [
    "submission_df_svm = pd.DataFrame({\n",
    "    'id': df_test['id'],  \n",
    "    'target': y_pred_test_svm  #  SVM model \n",
    "})\n",
    "submission_df_svm.head()  "
   ]
  },
  {
   "cell_type": "markdown",
   "id": "e4b7b4e0",
   "metadata": {},
   "source": [
    "Saving the prediction to a CSV file:"
   ]
  },
  {
   "cell_type": "code",
   "execution_count": 566,
   "id": "10b9b5b4",
   "metadata": {},
   "outputs": [],
   "source": [
    "submission_df_svm.to_csv('submission_1.csv', index=False)"
   ]
  },
  {
   "cell_type": "markdown",
   "id": "2dbb7b8b",
   "metadata": {},
   "source": [
    "#### 7.2 Submission File for LR model prediction"
   ]
  },
  {
   "cell_type": "code",
   "execution_count": 568,
   "id": "61642a52",
   "metadata": {},
   "outputs": [
    {
     "data": {
      "text/html": [
       "<div>\n",
       "<style scoped>\n",
       "    .dataframe tbody tr th:only-of-type {\n",
       "        vertical-align: middle;\n",
       "    }\n",
       "\n",
       "    .dataframe tbody tr th {\n",
       "        vertical-align: top;\n",
       "    }\n",
       "\n",
       "    .dataframe thead th {\n",
       "        text-align: right;\n",
       "    }\n",
       "</style>\n",
       "<table border=\"1\" class=\"dataframe\">\n",
       "  <thead>\n",
       "    <tr style=\"text-align: right;\">\n",
       "      <th></th>\n",
       "      <th>id</th>\n",
       "      <th>target</th>\n",
       "    </tr>\n",
       "  </thead>\n",
       "  <tbody>\n",
       "    <tr>\n",
       "      <th>0</th>\n",
       "      <td>73</td>\n",
       "      <td>1</td>\n",
       "    </tr>\n",
       "    <tr>\n",
       "      <th>1</th>\n",
       "      <td>18</td>\n",
       "      <td>0</td>\n",
       "    </tr>\n",
       "    <tr>\n",
       "      <th>2</th>\n",
       "      <td>118</td>\n",
       "      <td>2</td>\n",
       "    </tr>\n",
       "    <tr>\n",
       "      <th>3</th>\n",
       "      <td>78</td>\n",
       "      <td>1</td>\n",
       "    </tr>\n",
       "    <tr>\n",
       "      <th>4</th>\n",
       "      <td>76</td>\n",
       "      <td>1</td>\n",
       "    </tr>\n",
       "  </tbody>\n",
       "</table>\n",
       "</div>"
      ],
      "text/plain": [
       "    id  target\n",
       "0   73       1\n",
       "1   18       0\n",
       "2  118       2\n",
       "3   78       1\n",
       "4   76       1"
      ]
     },
     "execution_count": 568,
     "metadata": {},
     "output_type": "execute_result"
    }
   ],
   "source": [
    "submission_df_lr = pd.DataFrame({\n",
    "    'id': df_test['id'],  \n",
    "    'target': y_pred_test_lr  #  LR model \n",
    "})\n",
    "submission_df_lr.head()  "
   ]
  },
  {
   "cell_type": "markdown",
   "id": "94b0a579",
   "metadata": {},
   "source": [
    "Saving the prediction to a CSV file:"
   ]
  },
  {
   "cell_type": "code",
   "execution_count": 569,
   "id": "379ae6b6",
   "metadata": {},
   "outputs": [],
   "source": [
    "submission_df_lr.to_csv('submission_2.csv', index=False)"
   ]
  },
  {
   "cell_type": "markdown",
   "id": "c8ee7e18",
   "metadata": {},
   "source": [
    "#### 7.3 Submission File for Neural Network model - Multi-Layer Perceptron (MLP) model prediction"
   ]
  },
  {
   "cell_type": "code",
   "execution_count": 571,
   "id": "fa4d128f",
   "metadata": {},
   "outputs": [
    {
     "data": {
      "text/html": [
       "<div>\n",
       "<style scoped>\n",
       "    .dataframe tbody tr th:only-of-type {\n",
       "        vertical-align: middle;\n",
       "    }\n",
       "\n",
       "    .dataframe tbody tr th {\n",
       "        vertical-align: top;\n",
       "    }\n",
       "\n",
       "    .dataframe thead th {\n",
       "        text-align: right;\n",
       "    }\n",
       "</style>\n",
       "<table border=\"1\" class=\"dataframe\">\n",
       "  <thead>\n",
       "    <tr style=\"text-align: right;\">\n",
       "      <th></th>\n",
       "      <th>id</th>\n",
       "      <th>target</th>\n",
       "    </tr>\n",
       "  </thead>\n",
       "  <tbody>\n",
       "    <tr>\n",
       "      <th>0</th>\n",
       "      <td>73</td>\n",
       "      <td>1</td>\n",
       "    </tr>\n",
       "    <tr>\n",
       "      <th>1</th>\n",
       "      <td>18</td>\n",
       "      <td>0</td>\n",
       "    </tr>\n",
       "    <tr>\n",
       "      <th>2</th>\n",
       "      <td>118</td>\n",
       "      <td>2</td>\n",
       "    </tr>\n",
       "    <tr>\n",
       "      <th>3</th>\n",
       "      <td>78</td>\n",
       "      <td>1</td>\n",
       "    </tr>\n",
       "    <tr>\n",
       "      <th>4</th>\n",
       "      <td>76</td>\n",
       "      <td>1</td>\n",
       "    </tr>\n",
       "  </tbody>\n",
       "</table>\n",
       "</div>"
      ],
      "text/plain": [
       "    id  target\n",
       "0   73       1\n",
       "1   18       0\n",
       "2  118       2\n",
       "3   78       1\n",
       "4   76       1"
      ]
     },
     "execution_count": 571,
     "metadata": {},
     "output_type": "execute_result"
    }
   ],
   "source": [
    "submission_df_nn = pd.DataFrame({\n",
    "    'id': df_test['id'],  \n",
    "    'target': y_pred_test_nn  #  NN model \n",
    "})\n",
    "submission_df_nn.head()  "
   ]
  },
  {
   "cell_type": "markdown",
   "id": "54d47072",
   "metadata": {},
   "source": [
    "Saving the prediction to a CSV file:"
   ]
  },
  {
   "cell_type": "code",
   "execution_count": 572,
   "id": "a592c21e",
   "metadata": {},
   "outputs": [],
   "source": [
    "submission_df_nn.to_csv('submission_3.csv', index=False)"
   ]
  },
  {
   "cell_type": "markdown",
   "id": "01ed8abf",
   "metadata": {},
   "source": [
    "#### 7.4 Submission File for Random Forest model prediction"
   ]
  },
  {
   "cell_type": "code",
   "execution_count": 576,
   "id": "00853419",
   "metadata": {},
   "outputs": [
    {
     "data": {
      "text/html": [
       "<div>\n",
       "<style scoped>\n",
       "    .dataframe tbody tr th:only-of-type {\n",
       "        vertical-align: middle;\n",
       "    }\n",
       "\n",
       "    .dataframe tbody tr th {\n",
       "        vertical-align: top;\n",
       "    }\n",
       "\n",
       "    .dataframe thead th {\n",
       "        text-align: right;\n",
       "    }\n",
       "</style>\n",
       "<table border=\"1\" class=\"dataframe\">\n",
       "  <thead>\n",
       "    <tr style=\"text-align: right;\">\n",
       "      <th></th>\n",
       "      <th>id</th>\n",
       "      <th>target</th>\n",
       "    </tr>\n",
       "  </thead>\n",
       "  <tbody>\n",
       "    <tr>\n",
       "      <th>0</th>\n",
       "      <td>73</td>\n",
       "      <td>1</td>\n",
       "    </tr>\n",
       "    <tr>\n",
       "      <th>1</th>\n",
       "      <td>18</td>\n",
       "      <td>0</td>\n",
       "    </tr>\n",
       "    <tr>\n",
       "      <th>2</th>\n",
       "      <td>118</td>\n",
       "      <td>2</td>\n",
       "    </tr>\n",
       "    <tr>\n",
       "      <th>3</th>\n",
       "      <td>78</td>\n",
       "      <td>1</td>\n",
       "    </tr>\n",
       "    <tr>\n",
       "      <th>4</th>\n",
       "      <td>76</td>\n",
       "      <td>1</td>\n",
       "    </tr>\n",
       "  </tbody>\n",
       "</table>\n",
       "</div>"
      ],
      "text/plain": [
       "    id  target\n",
       "0   73       1\n",
       "1   18       0\n",
       "2  118       2\n",
       "3   78       1\n",
       "4   76       1"
      ]
     },
     "execution_count": 576,
     "metadata": {},
     "output_type": "execute_result"
    }
   ],
   "source": [
    "submission_df_rf = pd.DataFrame({\n",
    "    'id': df_test['id'],  \n",
    "    'target': y_pred_test_rf  #  RF model \n",
    "})\n",
    "submission_df_rf.head()  "
   ]
  },
  {
   "cell_type": "markdown",
   "id": "a869c0d5",
   "metadata": {},
   "source": [
    "Saving the prediction to a CSV file:"
   ]
  },
  {
   "cell_type": "code",
   "execution_count": 580,
   "id": "0e7e9b3b",
   "metadata": {},
   "outputs": [],
   "source": [
    "submission_df_rf.to_csv('submission_4.csv', index=False)"
   ]
  },
  {
   "cell_type": "markdown",
   "id": "a61c0007",
   "metadata": {},
   "source": [
    "#### 7.5 Submission File for Decision Tree model prediction"
   ]
  },
  {
   "cell_type": "code",
   "execution_count": 575,
   "id": "2e011cd9",
   "metadata": {},
   "outputs": [
    {
     "data": {
      "text/html": [
       "<div>\n",
       "<style scoped>\n",
       "    .dataframe tbody tr th:only-of-type {\n",
       "        vertical-align: middle;\n",
       "    }\n",
       "\n",
       "    .dataframe tbody tr th {\n",
       "        vertical-align: top;\n",
       "    }\n",
       "\n",
       "    .dataframe thead th {\n",
       "        text-align: right;\n",
       "    }\n",
       "</style>\n",
       "<table border=\"1\" class=\"dataframe\">\n",
       "  <thead>\n",
       "    <tr style=\"text-align: right;\">\n",
       "      <th></th>\n",
       "      <th>id</th>\n",
       "      <th>target</th>\n",
       "    </tr>\n",
       "  </thead>\n",
       "  <tbody>\n",
       "    <tr>\n",
       "      <th>0</th>\n",
       "      <td>73</td>\n",
       "      <td>1</td>\n",
       "    </tr>\n",
       "    <tr>\n",
       "      <th>1</th>\n",
       "      <td>18</td>\n",
       "      <td>0</td>\n",
       "    </tr>\n",
       "    <tr>\n",
       "      <th>2</th>\n",
       "      <td>118</td>\n",
       "      <td>2</td>\n",
       "    </tr>\n",
       "    <tr>\n",
       "      <th>3</th>\n",
       "      <td>78</td>\n",
       "      <td>1</td>\n",
       "    </tr>\n",
       "    <tr>\n",
       "      <th>4</th>\n",
       "      <td>76</td>\n",
       "      <td>1</td>\n",
       "    </tr>\n",
       "  </tbody>\n",
       "</table>\n",
       "</div>"
      ],
      "text/plain": [
       "    id  target\n",
       "0   73       1\n",
       "1   18       0\n",
       "2  118       2\n",
       "3   78       1\n",
       "4   76       1"
      ]
     },
     "execution_count": 575,
     "metadata": {},
     "output_type": "execute_result"
    }
   ],
   "source": [
    "submission_df_dt = pd.DataFrame({\n",
    "    'id': df_test['id'],  \n",
    "    'target': y_pred_test_dt  #  DT model \n",
    "})\n",
    "submission_df_dt.head()  "
   ]
  },
  {
   "cell_type": "markdown",
   "id": "71e5e2ba",
   "metadata": {},
   "source": [
    "Saving the prediction to a CSV file:"
   ]
  },
  {
   "cell_type": "code",
   "execution_count": 582,
   "id": "31bd3931",
   "metadata": {},
   "outputs": [],
   "source": [
    "submission_df_dt.to_csv('submission_5.csv', index=False)"
   ]
  },
  {
   "cell_type": "markdown",
   "id": "c3da3bf6",
   "metadata": {},
   "source": [
    "#### 7.6 Submission File for XGBoost model prediction"
   ]
  },
  {
   "cell_type": "code",
   "execution_count": 577,
   "id": "5d31ac48",
   "metadata": {},
   "outputs": [
    {
     "data": {
      "text/html": [
       "<div>\n",
       "<style scoped>\n",
       "    .dataframe tbody tr th:only-of-type {\n",
       "        vertical-align: middle;\n",
       "    }\n",
       "\n",
       "    .dataframe tbody tr th {\n",
       "        vertical-align: top;\n",
       "    }\n",
       "\n",
       "    .dataframe thead th {\n",
       "        text-align: right;\n",
       "    }\n",
       "</style>\n",
       "<table border=\"1\" class=\"dataframe\">\n",
       "  <thead>\n",
       "    <tr style=\"text-align: right;\">\n",
       "      <th></th>\n",
       "      <th>id</th>\n",
       "      <th>target</th>\n",
       "    </tr>\n",
       "  </thead>\n",
       "  <tbody>\n",
       "    <tr>\n",
       "      <th>0</th>\n",
       "      <td>73</td>\n",
       "      <td>1</td>\n",
       "    </tr>\n",
       "    <tr>\n",
       "      <th>1</th>\n",
       "      <td>18</td>\n",
       "      <td>0</td>\n",
       "    </tr>\n",
       "    <tr>\n",
       "      <th>2</th>\n",
       "      <td>118</td>\n",
       "      <td>2</td>\n",
       "    </tr>\n",
       "    <tr>\n",
       "      <th>3</th>\n",
       "      <td>78</td>\n",
       "      <td>1</td>\n",
       "    </tr>\n",
       "    <tr>\n",
       "      <th>4</th>\n",
       "      <td>76</td>\n",
       "      <td>1</td>\n",
       "    </tr>\n",
       "  </tbody>\n",
       "</table>\n",
       "</div>"
      ],
      "text/plain": [
       "    id  target\n",
       "0   73       1\n",
       "1   18       0\n",
       "2  118       2\n",
       "3   78       1\n",
       "4   76       1"
      ]
     },
     "execution_count": 577,
     "metadata": {},
     "output_type": "execute_result"
    }
   ],
   "source": [
    "submission_df_xgb = pd.DataFrame({\n",
    "    'id': df_test['id'],  \n",
    "    'target': y_pred_test_xgb  #  XGB model \n",
    "})\n",
    "submission_df_xgb.head()  "
   ]
  },
  {
   "cell_type": "markdown",
   "id": "ed7d69c7",
   "metadata": {},
   "source": [
    "Saving the prediction to a CSV file:"
   ]
  },
  {
   "cell_type": "code",
   "execution_count": 584,
   "id": "e53a3c9f",
   "metadata": {},
   "outputs": [],
   "source": [
    "submission_df_xgb.to_csv('submission_6.csv', index=False)"
   ]
  },
  {
   "cell_type": "markdown",
   "id": "d5e89808",
   "metadata": {},
   "source": [
    "#### 7.7 Submission File for Naive Bayes model prediction"
   ]
  },
  {
   "cell_type": "code",
   "execution_count": 578,
   "id": "2d3c2520",
   "metadata": {},
   "outputs": [
    {
     "data": {
      "text/html": [
       "<div>\n",
       "<style scoped>\n",
       "    .dataframe tbody tr th:only-of-type {\n",
       "        vertical-align: middle;\n",
       "    }\n",
       "\n",
       "    .dataframe tbody tr th {\n",
       "        vertical-align: top;\n",
       "    }\n",
       "\n",
       "    .dataframe thead th {\n",
       "        text-align: right;\n",
       "    }\n",
       "</style>\n",
       "<table border=\"1\" class=\"dataframe\">\n",
       "  <thead>\n",
       "    <tr style=\"text-align: right;\">\n",
       "      <th></th>\n",
       "      <th>id</th>\n",
       "      <th>target</th>\n",
       "    </tr>\n",
       "  </thead>\n",
       "  <tbody>\n",
       "    <tr>\n",
       "      <th>0</th>\n",
       "      <td>73</td>\n",
       "      <td>1</td>\n",
       "    </tr>\n",
       "    <tr>\n",
       "      <th>1</th>\n",
       "      <td>18</td>\n",
       "      <td>0</td>\n",
       "    </tr>\n",
       "    <tr>\n",
       "      <th>2</th>\n",
       "      <td>118</td>\n",
       "      <td>2</td>\n",
       "    </tr>\n",
       "    <tr>\n",
       "      <th>3</th>\n",
       "      <td>78</td>\n",
       "      <td>1</td>\n",
       "    </tr>\n",
       "    <tr>\n",
       "      <th>4</th>\n",
       "      <td>76</td>\n",
       "      <td>1</td>\n",
       "    </tr>\n",
       "  </tbody>\n",
       "</table>\n",
       "</div>"
      ],
      "text/plain": [
       "    id  target\n",
       "0   73       1\n",
       "1   18       0\n",
       "2  118       2\n",
       "3   78       1\n",
       "4   76       1"
      ]
     },
     "execution_count": 578,
     "metadata": {},
     "output_type": "execute_result"
    }
   ],
   "source": [
    "submission_df_nb = pd.DataFrame({\n",
    "    'id': df_test['id'],  \n",
    "    'target': y_pred_test_nb  #  NB model \n",
    "})\n",
    "# Display the submission DataFrame\n",
    "submission_df_nb.head()  "
   ]
  },
  {
   "cell_type": "markdown",
   "id": "196eade3",
   "metadata": {},
   "source": [
    "Saving the prediction to a CSV file:"
   ]
  },
  {
   "cell_type": "code",
   "execution_count": 586,
   "id": "a6ae668a",
   "metadata": {},
   "outputs": [],
   "source": [
    "submission_df_nb.to_csv('submission_7.csv', index=False)"
   ]
  }
 ],
 "metadata": {
  "kernelspec": {
   "display_name": "Python 3.8 (tensorflow)",
   "language": "python",
   "name": "tensorflow"
  },
  "language_info": {
   "codemirror_mode": {
    "name": "ipython",
    "version": 3
   },
   "file_extension": ".py",
   "mimetype": "text/x-python",
   "name": "python",
   "nbconvert_exporter": "python",
   "pygments_lexer": "ipython3",
   "version": "3.8.12"
  }
 },
 "nbformat": 4,
 "nbformat_minor": 5
}
